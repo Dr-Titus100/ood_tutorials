{
 "cells": [
  {
   "cell_type": "markdown",
   "id": "0a14f733-6ecd-426c-9a31-a535e7f11f9d",
   "metadata": {},
   "source": [
    "# **Machine Learning Tutorial - TensorFlow**\n",
    "\n",
    "This Jupyter Notebook files is a simple tutorial for Python users on the BSU Borah cluster. We will focus on TensorFlow in this tutorial.\n",
    "\n",
    "## **Scenario 1: Starting a new project.**\n",
    "\n",
    "If you are starting a new project, it is better to create a new Python environment and install all the packages needed in it. Follow the steps in the link below to create a new Python environment on Borah.\n",
    "\n",
    "[Click here](https://bsu-docs.readthedocs.io/en/latest/software/conda/)\n",
    "    \n",
    "For simplicity I will show the steps here, assuming that you will not need to use GPUs and already have conda/mamba installed. Ideally, if you know all the packages you will be using in your project, then it is better to install all of them at the point of creating your Python environment. This helps to prevent conflicts between package versions and dependencies. Here, we will create a new Python environment calle `ml_tutorial` that has some of the most popular and widely used Machine Learning (ML) Python packages installed in it. In this environment we need the following packages:\n",
    "- pandas\n",
    "- numpy\n",
    "- matplotlib\n",
    "- ipykernel\n",
    "- pytorch (Note: Torch (built on Lua, a scripting language) and and PyTorch (built on Python) differ in origin. Also, the community and support for torch is diminishing, so it recommended to install PyTorch instead of torch. However, in Python, torch is the main package name for PyTorch. When you install PyTorch, you import it using `import torch`, not `import pytorch`.\n",
    "- torchvision\n",
    "- tensorflow\n",
    "- tensorflow-gpu (for those who have need for GPUs)\n",
    "- tensorboard\n",
    "- scikit-learn\n",
    "\n",
    "Notice, how there are no white spaces in my environment name. This is very important. You can change the environment.\n",
    "\n",
    "Also note, per the new tensorflow update, once you install tensorflow you don't necessary have to install tensorbaord separately. However, for the purpose of this tutorial, I will just go ahead to install the two of them separately.\n",
    "     \n",
    "Run the following commands:\n",
    "\n",
    "### **Step 1: Create a Python environment**\n",
    "\n",
    "``` ruby\n",
    "mamba create -n ml_tutorial -c conda-forge matplotlib numpy pandas ipykernel pytorch torchvision tensorflow tensorflow-gpu tensorboard scikit-learn\n",
    "```\n",
    "\n",
    "By extension, if you have up to `n` packages, then the code will be:\n",
    "\n",
    "```ruby\n",
    "mamba create -n climate -c conda-forge package1 package2 package3 ... packagen\n",
    "```\n",
    "\n",
    "### **Step 2: Add your environment to Borah `OnDemand`**\n",
    "\n",
    "``` ruby\n",
    "python -m ipykernel install --user --name ml_tutorial --display-name \"ml_tutorial\"\n",
    "```\n",
    "\n",
    "## **Scenario 2: Installing in an already existing Python environment**\n",
    "If you already have and existing Python environment for your project, but wants to install additional Python libraries for your ML applications, then just simply skip creating a new Python environment. Just be aware that sometimes, you might have conflicts with some package versions and dependencies, this is normal and can be fixed. Though, sometimes the conflicts are not so easily fixed.\n",
    "\n",
    "```ruby\n",
    "mamba install -c conda-forge package1 package2 package3 ... packagen\n",
    "```\n",
    "\n",
    "Thus, by extension, if we only want to install the ML libraries in our existing Python environment, we will use the following command.\n",
    "\n",
    "```ruby\n",
    "mamba install -c conda-forge pytorch torchvision tensorflow tensorflow-gpu tensorboard scikit-learn\n",
    "```\n",
    "\n",
    "Great!!! \n",
    "Now the rest of this notebook demonstrates how to do a simple analysis using TensorFlow.\n",
    "\n",
    "## **ML Tutorial**\n",
    "Here we will rely on some in-built datasets in Python to build very simple ML models. Note that the idea here is to demonstrate simply how to install and use this libraries on Borah. We don't care so much about the model's accuracy or performance.\n",
    "\n",
    "### **The MNIST Problem: Handwritten Digit Classification**  \n",
    "\n",
    "### **Overview**  \n",
    "The **MNIST (Modified National Institute of Standards and Technology) dataset** is a classic **machine learning problem** where the goal is to classify **handwritten digits (0-9)**. The dataset consists of **70,000 grayscale images** of digits, each **28×28 pixels** in size.  \n",
    "\n",
    "#### **Why is MNIST Important?**  \n",
    "- It serves as the **\"Hello World\"** of deep learning and computer vision.\n",
    "- It helps in testing **image classification algorithms**.\n",
    "- It is small and easy to use but still challenging enough to evaluate different models.\n",
    "\n",
    "---\n",
    "\n",
    "### **Problem Definition**\n",
    "The task is to train a **machine learning model** that can **automatically recognize handwritten digits** from images.\n",
    "\n",
    "1. **Input:** A **grayscale image (28×28 pixels)** of a handwritten digit.\n",
    "2. **Output:** A **single label (0-9)** representing the digit in the image.\n",
    "3. **Model Type:** This is a **supervised classification** problem.\n",
    "\n",
    "---\n",
    "\n",
    "### **Dataset Breakdown**\n",
    "- **Training Set:** 60,000 images.\n",
    "- **Test Set:** 10,000 images.\n",
    "- **Classes:** 10 (digits 0-9).\n",
    "- **Image Properties:**\n",
    "  - 28×28 pixels.\n",
    "  - Each pixel has a value between **0 (black) and 255 (white)**.\n",
    "  - No color channels (grayscale).\n",
    "  - Images vary in style due to different handwriting.\n",
    "\n",
    "---\n",
    "\n",
    "### **Challenges of the MNIST Problem**\n",
    "1. **Variability in Handwriting:** Different people write digits differently.\n",
    "2. **Noise in Data:** Some images might be blurry or poorly written.\n",
    "3. **Generalization:** The model should work on unseen handwritten digits.\n",
    "\n",
    "---\n",
    "\n",
    "### **Approaches to Solve MNIST**\n",
    "There are several ways to tackle the problem:\n",
    "\n",
    "| Approach | Method |\n",
    "|----------|--------|\n",
    "| **Basic Approach** | Logistic Regression, k-Nearest Neighbors (KNN) |\n",
    "| **Deep Learning Approach** | Fully Connected Neural Networks (FCNN) |\n",
    "| **Advanced Approach** | Convolutional Neural Networks (CNNs) |\n",
    "\n",
    "---\n",
    "\n",
    "### **Applications of MNIST Classification**\n",
    "- Optical Character Recognition (**OCR**) in postal services.\n",
    "- Digit recognition for **bank check processing**.\n",
    "- Handwriting analysis in **touchscreen devices**.\n",
    "\n",
    "### **Tutorial 1: TensorFlow Machine Learning Tutorial**\n",
    "**Objective: Train an ML model using TensorFlow to classify images in the MNIST dataset (handwritten digits from 0 to 9).**\n",
    "\n",
    "### **Step 1: Import Required Libraries**"
   ]
  },
  {
   "cell_type": "code",
   "execution_count": 1,
   "id": "363c90d7-6c4d-4710-9a2a-e65670b0fc3d",
   "metadata": {},
   "outputs": [],
   "source": [
    "import numpy as np\n",
    "import tensorflow as tf\n",
    "from tensorflow import keras\n",
    "import matplotlib.pyplot as plt"
   ]
  },
  {
   "cell_type": "markdown",
   "id": "f3928958-9003-416d-8d00-e6632ee62201",
   "metadata": {},
   "source": [
    "### **Step 2: Load the MNIST Dataset**\n",
    "The MNIST handwritten digits recognition problem is very popular in the ML world. The MNIST dataset consists of 28×28 grayscale images of handwritten digits (0-9). Due to its wide usage, the dataset is available in Python, so there is not need to download it from an external source."
   ]
  },
  {
   "cell_type": "code",
   "execution_count": 2,
   "id": "0f7e7144-b774-4cb0-b1a0-38da3bff00b2",
   "metadata": {
    "tags": []
   },
   "outputs": [
    {
     "name": "stdout",
     "output_type": "stream",
     "text": [
      "Training data shape: (60000, 28, 28), Labels shape: (60000,)\n",
      "Test data shape: (10000, 28, 28), Labels shape: (10000,)\n"
     ]
    }
   ],
   "source": [
    "# Load dataset\n",
    "mnist = keras.datasets.mnist\n",
    "(x_train, y_train), (x_test, y_test) = mnist.load_data()\n",
    "\n",
    "# Normalize data (scale pixel values between 0 and 1)\n",
    "x_train, x_test = x_train / 255.0, x_test / 255.0\n",
    "\n",
    "# Check dataset shape\n",
    "print(f\"Training data shape: {x_train.shape}, Labels shape: {y_train.shape}\")\n",
    "print(f\"Test data shape: {x_test.shape}, Labels shape: {y_test.shape}\")\n"
   ]
  },
  {
   "cell_type": "markdown",
   "id": "658d4a9d-aa9c-49ca-bac4-9bf673eaa658",
   "metadata": {},
   "source": [
    "### **Step 3: Build a Neural Network Model**\n",
    "We will create a simple feedforward neural network with one hidden layer."
   ]
  },
  {
   "cell_type": "code",
   "execution_count": 3,
   "id": "45a41557-9991-4629-b49f-2e77e11a3300",
   "metadata": {},
   "outputs": [
    {
     "name": "stdout",
     "output_type": "stream",
     "text": [
      "Model: \"sequential\"\n",
      "_________________________________________________________________\n",
      "Layer (type)                 Output Shape              Param #   \n",
      "=================================================================\n",
      "flatten (Flatten)            (None, 784)               0         \n",
      "_________________________________________________________________\n",
      "dense (Dense)                (None, 128)               100480    \n",
      "_________________________________________________________________\n",
      "dropout (Dropout)            (None, 128)               0         \n",
      "_________________________________________________________________\n",
      "dense_1 (Dense)              (None, 10)                1290      \n",
      "=================================================================\n",
      "Total params: 101,770\n",
      "Trainable params: 101,770\n",
      "Non-trainable params: 0\n",
      "_________________________________________________________________\n"
     ]
    },
    {
     "name": "stderr",
     "output_type": "stream",
     "text": [
      "2025-02-11 12:21:40.097909: W tensorflow/stream_executor/platform/default/dso_loader.cc:64] Could not load dynamic library 'libcuda.so.1'; dlerror: libcuda.so.1: cannot open shared object file: No such file or directory; LD_LIBRARY_PATH: /cm/shared/apps/slurm/current/lib64/slurm:/cm/shared/apps/slurm/current/lib64:/cm/shared/apps/jupyterhub/lib:/bsuhome/tnde/.conda/envs/mass_cal/lib/\n",
      "2025-02-11 12:21:40.097943: W tensorflow/stream_executor/cuda/cuda_driver.cc:269] failed call to cuInit: UNKNOWN ERROR (303)\n",
      "2025-02-11 12:21:40.097965: I tensorflow/stream_executor/cuda/cuda_diagnostics.cc:156] kernel driver does not appear to be running on this host (cpu139): /proc/driver/nvidia/version does not exist\n",
      "2025-02-11 12:21:40.098238: I tensorflow/core/platform/cpu_feature_guard.cc:142] This TensorFlow binary is optimized with oneAPI Deep Neural Network Library (oneDNN) to use the following CPU instructions in performance-critical operations:  SSE4.1 SSE4.2 AVX AVX2 AVX512F FMA\n",
      "To enable them in other operations, rebuild TensorFlow with the appropriate compiler flags.\n"
     ]
    }
   ],
   "source": [
    "model = keras.Sequential([\n",
    "    keras.layers.Flatten(input_shape=(28, 28)),  # Flatten 28x28 images into 1D array\n",
    "    keras.layers.Dense(128, activation='relu'),  # Fully connected layer with 128 neurons\n",
    "    keras.layers.Dropout(0.2),  # Dropout to reduce overfitting\n",
    "    keras.layers.Dense(10, activation='softmax')  # Output layer with 10 classes (digits 0-9)\n",
    "])\n",
    "\n",
    "# Compile model\n",
    "model.compile(optimizer='adam',\n",
    "              loss='sparse_categorical_crossentropy',\n",
    "              metrics=['accuracy'])\n",
    "\n",
    "# Model summary\n",
    "model.summary()\n"
   ]
  },
  {
   "cell_type": "markdown",
   "id": "2a01964d-6ffb-4cd3-9915-69344acc0e22",
   "metadata": {},
   "source": [
    "### **Step 4: Train the Model**"
   ]
  },
  {
   "cell_type": "code",
   "execution_count": 4,
   "id": "b08cbe69-e1fd-40aa-a727-31904e1f0701",
   "metadata": {},
   "outputs": [
    {
     "name": "stderr",
     "output_type": "stream",
     "text": [
      "2025-02-11 12:21:43.730625: I tensorflow/compiler/mlir/mlir_graph_optimization_pass.cc:185] None of the MLIR Optimization Passes are enabled (registered 2)\n"
     ]
    },
    {
     "name": "stdout",
     "output_type": "stream",
     "text": [
      "Epoch 1/10\n",
      "1875/1875 [==============================] - 2s 1ms/step - loss: 0.2997 - accuracy: 0.9119 - val_loss: 0.1446 - val_accuracy: 0.9569\n",
      "Epoch 2/10\n",
      "1875/1875 [==============================] - 2s 1ms/step - loss: 0.1439 - accuracy: 0.9575 - val_loss: 0.1019 - val_accuracy: 0.9697\n",
      "Epoch 3/10\n",
      "1875/1875 [==============================] - 2s 1ms/step - loss: 0.1059 - accuracy: 0.9683 - val_loss: 0.0879 - val_accuracy: 0.9738\n",
      "Epoch 4/10\n",
      "1875/1875 [==============================] - 2s 1ms/step - loss: 0.0887 - accuracy: 0.9732 - val_loss: 0.0765 - val_accuracy: 0.9775\n",
      "Epoch 5/10\n",
      "1875/1875 [==============================] - 2s 1ms/step - loss: 0.0737 - accuracy: 0.9773 - val_loss: 0.0722 - val_accuracy: 0.9785\n",
      "Epoch 6/10\n",
      "1875/1875 [==============================] - 2s 1ms/step - loss: 0.0661 - accuracy: 0.9790 - val_loss: 0.0684 - val_accuracy: 0.9808\n",
      "Epoch 7/10\n",
      "1875/1875 [==============================] - 2s 1ms/step - loss: 0.0586 - accuracy: 0.9810 - val_loss: 0.0708 - val_accuracy: 0.9789\n",
      "Epoch 8/10\n",
      "1875/1875 [==============================] - 2s 1ms/step - loss: 0.0536 - accuracy: 0.9829 - val_loss: 0.0731 - val_accuracy: 0.9789\n",
      "Epoch 9/10\n",
      "1875/1875 [==============================] - 2s 1ms/step - loss: 0.0488 - accuracy: 0.9839 - val_loss: 0.0732 - val_accuracy: 0.9792\n",
      "Epoch 10/10\n",
      "1875/1875 [==============================] - 2s 1ms/step - loss: 0.0438 - accuracy: 0.9856 - val_loss: 0.0753 - val_accuracy: 0.9783\n"
     ]
    },
    {
     "data": {
      "text/plain": [
       "<keras.callbacks.History at 0x7fff6f759b20>"
      ]
     },
     "execution_count": 4,
     "metadata": {},
     "output_type": "execute_result"
    }
   ],
   "source": [
    "model.fit(x_train, y_train, epochs=10, validation_data=(x_test, y_test))"
   ]
  },
  {
   "cell_type": "markdown",
   "id": "2759a52b-fe97-4bc9-a76d-e6defd0fd1f9",
   "metadata": {},
   "source": [
    "### **Step 5: Evaluate the Model**"
   ]
  },
  {
   "cell_type": "code",
   "execution_count": 5,
   "id": "52f577d8-63f3-497e-824b-452d4755e20c",
   "metadata": {},
   "outputs": [
    {
     "name": "stdout",
     "output_type": "stream",
     "text": [
      "313/313 [==============================] - 0s 504us/step - loss: 0.0753 - accuracy: 0.9783\n",
      "Test accuracy: 0.9783\n"
     ]
    }
   ],
   "source": [
    "test_loss, test_acc = model.evaluate(x_test, y_test)\n",
    "print(f\"Test accuracy: {test_acc:.4f}\")\n"
   ]
  },
  {
   "cell_type": "markdown",
   "id": "74662deb-62f1-4119-accc-282cba0fddc8",
   "metadata": {},
   "source": [
    "### **Step 6: Make Predictions**\n"
   ]
  },
  {
   "cell_type": "code",
   "execution_count": 6,
   "id": "6fc9465f-552b-4193-a8a2-9d07305b9ab3",
   "metadata": {},
   "outputs": [
    {
     "data": {
      "image/png": "[encoded data removed]",
      "text/plain": [
       "<Figure size 640x480 with 1 Axes>"
      ]
     },
     "metadata": {},
     "output_type": "display_data"
    }
   ],
   "source": [
    "predictions = model.predict(x_test)\n",
    "\n",
    "# Plot example image and predicted label\n",
    "plt.imshow(x_test[0], cmap='gray')\n",
    "plt.title(f\"Predicted: {np.argmax(predictions[0])}, Actual: {y_test[0]}\")\n",
    "plt.show()\n"
   ]
  },
  {
   "cell_type": "code",
   "execution_count": null,
   "id": "d227b0d9-13b1-426e-bd76-466605fbf0db",
   "metadata": {},
   "outputs": [],
   "source": []
  },
  {
   "cell_type": "markdown",
   "id": "e2046d4f-5edf-4986-beb8-c3ccfcc4ff36",
   "metadata": {
    "tags": []
   },
   "source": [
    "## **Tutorial 2: TensorFlow CNN Tutorial - Handwritten Digit Classification**\n",
    "**Objective: Train a Convolutional Neural Network (CNN) using TensorFlow to classify handwritten digits in the MNIST dataset.**\n",
    "\n",
    "### **Step 1: Import Required Libraries**"
   ]
  },
  {
   "cell_type": "code",
   "execution_count": 7,
   "id": "fce2cd34-9821-4984-982d-442287d8fda1",
   "metadata": {},
   "outputs": [],
   "source": [
    "# import numpy as np\n",
    "# import tensorflow as tf\n",
    "# from tensorflow import keras\n",
    "# import matplotlib.pyplot as plt"
   ]
  },
  {
   "cell_type": "markdown",
   "id": "f98cb82f-4f67-42b6-9f76-e39371834a70",
   "metadata": {},
   "source": [
    "### **Step 2: Load and Preprocess the MNIST Dataset**"
   ]
  },
  {
   "cell_type": "code",
   "execution_count": 8,
   "id": "7b7943c8-a4c6-4ffa-917e-26bdb8549857",
   "metadata": {},
   "outputs": [
    {
     "name": "stdout",
     "output_type": "stream",
     "text": [
      "Training data shape: (60000, 28, 28, 1), Labels shape: (60000,)\n",
      "Test data shape: (10000, 28, 28, 1), Labels shape: (10000,)\n"
     ]
    }
   ],
   "source": [
    "# Load dataset\n",
    "mnist = keras.datasets.mnist\n",
    "(x_train, y_train), (x_test, y_test) = mnist.load_data()\n",
    "\n",
    "# Reshape data to include a channel dimension (for CNNs)\n",
    "x_train = x_train.reshape(-1, 28, 28, 1).astype(\"float32\") / 255.0\n",
    "x_test = x_test.reshape(-1, 28, 28, 1).astype(\"float32\") / 255.0\n",
    "\n",
    "# Print dataset shape\n",
    "print(f\"Training data shape: {x_train.shape}, Labels shape: {y_train.shape}\")\n",
    "print(f\"Test data shape: {x_test.shape}, Labels shape: {y_test.shape}\")\n"
   ]
  },
  {
   "cell_type": "markdown",
   "id": "e9ac1566-2bbe-4452-b491-219f4ea558ae",
   "metadata": {
    "tags": []
   },
   "source": [
    "### **Step 3: Define the CNN Architecture**\n",
    "Instead of a simple Dense Neural Network, we will use:\n",
    "\n",
    "- Convolutional layers to extract features.\n",
    "- MaxPooling layers to reduce dimensions.\n",
    "- Dropout layers to prevent overfitting."
   ]
  },
  {
   "cell_type": "code",
   "execution_count": 9,
   "id": "4c292179-2693-4c7a-9266-6fea2e9ffc54",
   "metadata": {},
   "outputs": [
    {
     "name": "stdout",
     "output_type": "stream",
     "text": [
      "Model: \"sequential_1\"\n",
      "_________________________________________________________________\n",
      "Layer (type)                 Output Shape              Param #   \n",
      "=================================================================\n",
      "conv2d (Conv2D)              (None, 26, 26, 32)        320       \n",
      "_________________________________________________________________\n",
      "max_pooling2d (MaxPooling2D) (None, 13, 13, 32)        0         \n",
      "_________________________________________________________________\n",
      "conv2d_1 (Conv2D)            (None, 11, 11, 64)        18496     \n",
      "_________________________________________________________________\n",
      "max_pooling2d_1 (MaxPooling2 (None, 5, 5, 64)          0         \n",
      "_________________________________________________________________\n",
      "flatten_1 (Flatten)          (None, 1600)              0         \n",
      "_________________________________________________________________\n",
      "dense_2 (Dense)              (None, 128)               204928    \n",
      "_________________________________________________________________\n",
      "dropout_1 (Dropout)          (None, 128)               0         \n",
      "_________________________________________________________________\n",
      "dense_3 (Dense)              (None, 10)                1290      \n",
      "=================================================================\n",
      "Total params: 225,034\n",
      "Trainable params: 225,034\n",
      "Non-trainable params: 0\n",
      "_________________________________________________________________\n"
     ]
    }
   ],
   "source": [
    "model = keras.Sequential([\n",
    "    # First Convolutional Layer\n",
    "    keras.layers.Conv2D(32, (3, 3), activation='relu', input_shape=(28, 28, 1)),\n",
    "    keras.layers.MaxPooling2D(pool_size=(2, 2)),\n",
    "\n",
    "    # Second Convolutional Layer\n",
    "    keras.layers.Conv2D(64, (3, 3), activation='relu'),\n",
    "    keras.layers.MaxPooling2D(pool_size=(2, 2)),\n",
    "\n",
    "    # Flatten the output\n",
    "    keras.layers.Flatten(),\n",
    "    \n",
    "    # Fully Connected Layer\n",
    "    keras.layers.Dense(128, activation='relu'),\n",
    "    keras.layers.Dropout(0.5),\n",
    "\n",
    "    # Output Layer with 10 neurons (for digits 0-9)\n",
    "    keras.layers.Dense(10, activation='softmax')\n",
    "])\n",
    "\n",
    "# Compile the model\n",
    "model.compile(optimizer='adam',\n",
    "              loss='sparse_categorical_crossentropy',\n",
    "              metrics=['accuracy'])\n",
    "\n",
    "# Model summary\n",
    "model.summary()\n"
   ]
  },
  {
   "cell_type": "markdown",
   "id": "217e3a83-0018-4447-9919-7bb6de5ac292",
   "metadata": {},
   "source": [
    "### **Step 4: Train the CNN Model**"
   ]
  },
  {
   "cell_type": "code",
   "execution_count": 10,
   "id": "84159592-8c67-4ebe-98e9-3433e18666de",
   "metadata": {},
   "outputs": [
    {
     "name": "stdout",
     "output_type": "stream",
     "text": [
      "Epoch 1/10\n",
      "938/938 [==============================] - 5s 5ms/step - loss: 0.2331 - accuracy: 0.9299 - val_loss: 0.0530 - val_accuracy: 0.9834\n",
      "Epoch 2/10\n",
      "938/938 [==============================] - 5s 5ms/step - loss: 0.0819 - accuracy: 0.9763 - val_loss: 0.0339 - val_accuracy: 0.9893\n",
      "Epoch 3/10\n",
      "938/938 [==============================] - 5s 5ms/step - loss: 0.0597 - accuracy: 0.9823 - val_loss: 0.0301 - val_accuracy: 0.9892\n",
      "Epoch 4/10\n",
      "938/938 [==============================] - 5s 5ms/step - loss: 0.0478 - accuracy: 0.9852 - val_loss: 0.0306 - val_accuracy: 0.9902\n",
      "Epoch 5/10\n",
      "938/938 [==============================] - 5s 5ms/step - loss: 0.0410 - accuracy: 0.9876 - val_loss: 0.0281 - val_accuracy: 0.9904\n",
      "Epoch 6/10\n",
      "938/938 [==============================] - 5s 5ms/step - loss: 0.0341 - accuracy: 0.9898 - val_loss: 0.0249 - val_accuracy: 0.9914\n",
      "Epoch 7/10\n",
      "938/938 [==============================] - 5s 5ms/step - loss: 0.0310 - accuracy: 0.9904 - val_loss: 0.0236 - val_accuracy: 0.9929\n",
      "Epoch 8/10\n",
      "938/938 [==============================] - 5s 5ms/step - loss: 0.0271 - accuracy: 0.9911 - val_loss: 0.0234 - val_accuracy: 0.9926\n",
      "Epoch 9/10\n",
      "938/938 [==============================] - 5s 5ms/step - loss: 0.0236 - accuracy: 0.9927 - val_loss: 0.0217 - val_accuracy: 0.9936\n",
      "Epoch 10/10\n",
      "938/938 [==============================] - 5s 5ms/step - loss: 0.0198 - accuracy: 0.9937 - val_loss: 0.0236 - val_accuracy: 0.9922\n"
     ]
    }
   ],
   "source": [
    "history = model.fit(x_train, y_train, epochs=10, validation_data=(x_test, y_test), batch_size=64)"
   ]
  },
  {
   "cell_type": "markdown",
   "id": "b38eab64-6927-4a01-acec-32381a203f69",
   "metadata": {},
   "source": [
    "### **Step 5: Evaluate the Model**"
   ]
  },
  {
   "cell_type": "code",
   "execution_count": 11,
   "id": "5fa415ed-cdf9-4cdc-a941-7a6c3535b1d5",
   "metadata": {},
   "outputs": [
    {
     "name": "stdout",
     "output_type": "stream",
     "text": [
      "313/313 [==============================] - 0s 1ms/step - loss: 0.0236 - accuracy: 0.9922\n",
      "Test Accuracy: 0.9922\n"
     ]
    }
   ],
   "source": [
    "test_loss, test_acc = model.evaluate(x_test, y_test)\n",
    "print(f\"Test Accuracy: {test_acc:.4f}\")"
   ]
  },
  {
   "cell_type": "markdown",
   "id": "80940672-a504-43e9-876c-fe5068471c6f",
   "metadata": {},
   "source": [
    "### **Step 6: Visualize Training Progress**\n",
    "Plot the accuracy and loss curves for both training and validation."
   ]
  },
  {
   "cell_type": "code",
   "execution_count": 12,
   "id": "7a5b52ee-8d16-42bb-89f3-2897e7f63c73",
   "metadata": {},
   "outputs": [
    {
     "data": {
      "image/png": "[encoded data removed]",
      "text/plain": [
       "<Figure size 640x480 with 1 Axes>"
      ]
     },
     "metadata": {},
     "output_type": "display_data"
    },
    {
     "data": {
      "image/png": "[encoded data removed]",
      "text/plain": [
       "<Figure size 640x480 with 1 Axes>"
      ]
     },
     "metadata": {},
     "output_type": "display_data"
    }
   ],
   "source": [
    "# Plot Accuracy\n",
    "plt.plot(history.history['accuracy'], label='Train Accuracy')\n",
    "plt.plot(history.history['val_accuracy'], label='Validation Accuracy')\n",
    "plt.xlabel('Epochs')\n",
    "plt.ylabel('Accuracy')\n",
    "plt.legend()\n",
    "plt.show()\n",
    "\n",
    "# Plot Loss\n",
    "plt.plot(history.history['loss'], label='Train Loss')\n",
    "plt.plot(history.history['val_loss'], label='Validation Loss')\n",
    "plt.xlabel('Epochs')\n",
    "plt.ylabel('Loss')\n",
    "plt.legend()\n",
    "plt.show()"
   ]
  },
  {
   "cell_type": "markdown",
   "id": "ce9a1cb3-7009-4164-aa08-21782800f2f4",
   "metadata": {},
   "source": [
    "### **Step 7: Make Predictions**"
   ]
  },
  {
   "cell_type": "code",
   "execution_count": 13,
   "id": "acb9a6ae-d303-4a44-a5c8-37d17008fe72",
   "metadata": {},
   "outputs": [
    {
     "data": {
      "image/png": "[encoded data removed]",
      "text/plain": [
       "<Figure size 640x480 with 1 Axes>"
      ]
     },
     "metadata": {},
     "output_type": "display_data"
    }
   ],
   "source": [
    "predictions = model.predict(x_test)\n",
    "\n",
    "# Plot example image and predicted label\n",
    "plt.imshow(x_test[0].reshape(28, 28), cmap='gray')\n",
    "plt.title(f\"Predicted: {np.argmax(predictions[0])}, Actual: {y_test[0]}\")\n",
    "plt.show()"
   ]
  },
  {
   "cell_type": "markdown",
   "id": "12f3d007-6fe1-4753-a8a0-3894fc955867",
   "metadata": {},
   "source": [
    "The simple feedforward neural network model had an accuracy of 97.84\\%. Meanwhile the accuracy for the current CNN model 99.26\\%. This is expected since the CNN is a more complex model. However, notice that the CNN model took a longer time to train. This is also expected since more complex models require a longer training time. Hence, depending on your specific case, you should find a nice to strike a balance between model accuracy and model complexity (or training time).\n",
    "\n",
    "### **Next Steps for More Complexity**\n",
    "The following steps could help you improve the model's accuracy or performance.\n",
    "- Increase CNN Depth - Add more convolutional layers. An overly complex model will lead to overfitting. Be sure to avoid overfitting by striking a balance between model complexity and overfitting. We can apply Monte dropout to avoid overfitting.  Also, an overly complex model will require more computing resources to train, else, it might take an unnecessarily way too long time to train.\n",
    "- Use Data Augmentation - Improve generalization with ImageDataGenerator.\n",
    "- Apply Transfer Learning - Use a pre-trained model like ResNet or VGG16.\n",
    "- Train on Custom Datasets - Try it with a dataset like CIFAR-10 or Fashion-MNIST."
   ]
  },
  {
   "cell_type": "code",
   "execution_count": null,
   "id": "7901e217-d3cd-430a-b127-887182f92b8e",
   "metadata": {},
   "outputs": [],
   "source": []
  },
  {
   "cell_type": "markdown",
   "id": "880f7865-bfc0-45d7-aa76-29c8c478bd79",
   "metadata": {},
   "source": [
    "## **Tutorial 3: Advanced TensorFlow Tutorial - CNN for Fashion Image Classification**\n",
    "\n",
    "Note that the MNIST handwritten digits problem is a relatively simple and widely studied problem. Even with a simle model we can get a better model performance. Now, let’s make this tutorial more complex by incorporating TensorBoard for visualization and data augmentation for better generalization. We will build a Convolutional Neural Network (CNN) to classify images from the Fashion-MNIST dataset, which is more challenging than MNIST.\n",
    "\n",
    "**Objective: Train a deep CNN on the Fashion-MNIST dataset, use TensorBoard for visualization, and apply data augmentation to improve generalization.**\n",
    "\n",
    "### **The Fashion-MNIST Problem: Clothing Item Classification**  \n",
    "\n",
    "#### **Overview**  \n",
    "**Fashion-MNIST** is a machine learning dataset designed as a more challenging replacement for the original **MNIST handwritten digit dataset**. The goal is to classify images of **clothing items** into one of **10 categories** using machine learning or deep learning models.\n",
    "\n",
    "#### **Why Fashion-MNIST?**  \n",
    "- **More challenging** than MNIST because clothing items have more complex patterns.  \n",
    "- **Same format as MNIST**, making it easy to experiment with advanced models like CNNs.  \n",
    "- **Real-world relevance** in applications like **retail, e-commerce, and fashion industry AI**.\n",
    "\n",
    "---\n",
    "\n",
    "### **Problem Definition**\n",
    "The task is to build a **supervised classification model** that can recognize different types of clothing items from grayscale images.\n",
    "\n",
    "1. **Input:** A **28×28 grayscale image** of a clothing item.  \n",
    "2. **Output:** A **single label (0-9)** corresponding to the clothing category.  \n",
    "3. **Model Type:** **Supervised classification problem**.\n",
    "\n",
    "---\n",
    "\n",
    "### **Dataset Breakdown**\n",
    "- **Training Set:** 60,000 images.  \n",
    "- **Test Set:** 10,000 images.  \n",
    "- **Classes (10 Categories):**  \n",
    "  | Label | Class Name | Example |\n",
    "  |--------|------------|---------|\n",
    "  | 0 | T-shirt/top | 👕 |\n",
    "  | 1 | Trouser | 👖 |\n",
    "  | 2 | Pullover | 🧥 |\n",
    "  | 3 | Dress | 👗 |\n",
    "  | 4 | Coat | 🧥 |\n",
    "  | 5 | Sandal | 🩴 |\n",
    "  | 6 | Shirt | 👚 |\n",
    "  | 7 | Sneaker | 👟 |\n",
    "  | 8 | Bag | 👜 |\n",
    "  | 9 | Ankle boot | 👢 |\n",
    "\n",
    "---\n",
    "\n",
    "### **Challenges of the Fashion-MNIST Problem**\n",
    "1. **More Visual Complexity** – Unlike MNIST, fashion images have textures and patterns.  \n",
    "2. **Class Similarity** – Some items (e.g., shirts and coats) look similar, making classification harder.  \n",
    "3. **Generalization** – The model must recognize items despite variations in style and texture.\n",
    "\n",
    "---\n",
    "\n",
    "### **Approaches to Solve Fashion-MNIST**\n",
    "| Approach | Method |\n",
    "|----------|--------|\n",
    "| **Basic Approach** | Logistic Regression, k-Nearest Neighbors (KNN) |\n",
    "| **Deep Learning Approach** | Fully Connected Neural Networks (FCNN) |\n",
    "| **Advanced Approach** | Convolutional Neural Networks (CNNs) |\n",
    "| **State-of-the-Art** | Transfer Learning (using ResNet, EfficientNet, etc.) |\n",
    "\n",
    "---\n",
    "\n",
    "### **Applications of Fashion-MNIST Classification**\n",
    "- **E-commerce AI** – Automatically tag and sort clothing items.  \n",
    "- **Retail Analytics** – Identify fashion trends using image recognition.  \n",
    "- **Virtual Try-On Systems** – Power fashion recommendation systems.  \n",
    "\n",
    "\n",
    "### **Step 1: Import Required Libraries**"
   ]
  },
  {
   "cell_type": "code",
   "execution_count": 14,
   "id": "750738e3-b544-43b5-aab2-17ff26282773",
   "metadata": {},
   "outputs": [],
   "source": [
    "import datetime  # For TensorBoard logs\n",
    "# import numpy as np\n",
    "# import tensorflow as tf\n",
    "# from tensorflow import keras\n",
    "# import matplotlib.pyplot as plt"
   ]
  },
  {
   "cell_type": "markdown",
   "id": "17f37a80-dc17-4937-a67b-c65874880693",
   "metadata": {},
   "source": [
    "### **Step 2: Load and Preprocess the Fashion-MNIST Dataset**\n",
    "Fashion-MNIST consists of 70,000 grayscale images (28×28 pixels) in 10 classes, such as shoes, bags, and shirts."
   ]
  },
  {
   "cell_type": "code",
   "execution_count": 15,
   "id": "70669df2-8079-44df-9393-91fca72cf1d3",
   "metadata": {},
   "outputs": [
    {
     "name": "stdout",
     "output_type": "stream",
     "text": [
      "Training data shape: (60000, 28, 28, 1), Labels shape: (60000,)\n",
      "Test data shape: (10000, 28, 28, 1), Labels shape: (10000,)\n"
     ]
    }
   ],
   "source": [
    "# Load dataset\n",
    "fashion_mnist = keras.datasets.fashion_mnist\n",
    "(x_train, y_train), (x_test, y_test) = fashion_mnist.load_data()\n",
    "\n",
    "# Normalize the data (scale pixel values between 0 and 1)\n",
    "x_train, x_test = x_train / 255.0, x_test / 255.0\n",
    "\n",
    "# Reshape to include a single channel (needed for CNNs)\n",
    "x_train = x_train.reshape(-1, 28, 28, 1).astype(\"float32\")\n",
    "x_test = x_test.reshape(-1, 28, 28, 1).astype(\"float32\")\n",
    "\n",
    "# Print dataset shape\n",
    "print(f\"Training data shape: {x_train.shape}, Labels shape: {y_train.shape}\")\n",
    "print(f\"Test data shape: {x_test.shape}, Labels shape: {y_test.shape}\")\n"
   ]
  },
  {
   "cell_type": "markdown",
   "id": "ff4e6bfb-e0f3-4762-9e5a-58c1b11f1291",
   "metadata": {
    "tags": []
   },
   "source": [
    "### **Step 3: Set Up TensorBoard for Visualization**\n",
    "TensorBoard allows you to monitor model training in real time.\n",
    "\n",
    "### **What is TensorBoard?**  \n",
    "TensorBoard is a **visualization tool** that comes with TensorFlow. It helps **monitor, debug, and optimize** machine learning models by providing interactive visualizations for:  \n",
    "\n",
    "- **Training progress** (loss and accuracy curves)  \n",
    "- **Model architecture** (graph visualization)  \n",
    "- **Weight distributions** (to analyze parameter updates)  \n",
    "- **Performance metrics** (scalars, histograms, images, etc.)  \n",
    "- **Hyperparameter tuning** (using HParams)  \n",
    "\n",
    "---\n",
    "### **Why Use TensorBoard?**\n",
    "1. **Track Model Training Progress**  \n",
    "   - View loss and accuracy curves in real-time to detect overfitting or underfitting.  \n",
    "\n",
    "2. **Visualize the Computation Graph**  \n",
    "   - Understand the model structure and debug layer connections.  \n",
    "\n",
    "3. **Analyze Weights and Biases**  \n",
    "   - Track how model parameters evolve during training.  \n",
    "\n",
    "4. **Compare Multiple Runs**  \n",
    "   - Evaluate different hyperparameters and optimizers side by side.  \n",
    "\n",
    "5. **Monitor Data Inputs and Outputs**  \n",
    "   - Check how input data is transformed at different layers.  \n",
    "\n",
    "---\n",
    "\n",
    "### **TensorBoard Features**\n",
    "| Feature | What It Does |\n",
    "|---------|-------------|\n",
    "| **Scalars** | Tracks metrics like loss & accuracy over time. |\n",
    "| **Graphs** | Displays the model’s computational graph. |\n",
    "| **Histograms** | Shows weight and bias distributions. |\n",
    "| **Images** | Visualizes input images during training. |\n",
    "| **HParams** | Helps tune hyperparameters like learning rate. |\n",
    "\n",
    "---\n",
    "\n",
    "### **Example TensorBoard Workflow**\n",
    "If you are training a CNN on Fashion-MNIST, TensorBoard can help:  \n",
    "- Monitor accuracy and loss curves.  \n",
    "- Check if weights are updating properly.  \n",
    "- Compare multiple optimizers (SGD, Adam, etc.).  \n",
    "\n",
    "\n",
    "##### **On Borah, you may not be able to use tensorboard if you do not have GPU access. One possible solution is to install `tensorflow-cpu` instead. It is the CPU-only version of TensorFlor. If you do have GPU access, make sure CUDA is properly loaded.**"
   ]
  },
  {
   "cell_type": "code",
   "execution_count": 16,
   "id": "32d2116f-ab2b-4fab-a8ce-28b5d3403699",
   "metadata": {},
   "outputs": [
    {
     "name": "stderr",
     "output_type": "stream",
     "text": [
      "2025-02-11 12:22:52.739166: I tensorflow/core/profiler/lib/profiler_session.cc:131] Profiler session initializing.\n",
      "2025-02-11 12:22:52.739198: I tensorflow/core/profiler/lib/profiler_session.cc:146] Profiler session started.\n",
      "2025-02-11 12:22:52.739452: I tensorflow/core/profiler/lib/profiler_session.cc:164] Profiler session tear down.\n"
     ]
    }
   ],
   "source": [
    "# Define TensorBoard log directory\n",
    "log_dir = \"/bsuhome/tnde/scratch/tensorboard/logs/fit/\" + datetime.datetime.now().strftime(\"%Y%m%d-%H%M%S\")\n",
    "tensorboard_callback = keras.callbacks.TensorBoard(log_dir=log_dir, histogram_freq=1)"
   ]
  },
  {
   "cell_type": "markdown",
   "id": "880e0077-c2fb-41bb-a243-f58a22f37f87",
   "metadata": {},
   "source": [
    "### **Step 4: Create a Data Augmentation Pipeline**"
   ]
  },
  {
   "cell_type": "code",
   "execution_count": 17,
   "id": "efd672d7-b2f7-4435-9ef1-5ddc1ff084df",
   "metadata": {},
   "outputs": [],
   "source": [
    "# Create a data augmentation layer\n",
    "data_augmentation = keras.Sequential([\n",
    "    keras.layers.RandomFlip(\"horizontal\"),\n",
    "    keras.layers.RandomRotation(0.1),\n",
    "    keras.layers.RandomZoom(0.1),\n",
    "])\n"
   ]
  },
  {
   "cell_type": "markdown",
   "id": "e0a22fa7-bdf1-4c41-8d1c-8906774d26b2",
   "metadata": {},
   "source": [
    "### **Step 5: Define the CNN Architecture**\n",
    "This CNN has:\n",
    "\n",
    "- Data augmentation (for better generalization).\n",
    "- Batch normalization (for stable training).\n",
    "- Dropout layers (to prevent overfitting). **Dropout** is a **regularization technique**.\n",
    "\n",
    "Note: If you set dropout rate at 0.5, for instance, then the following will happen to the your model: \n",
    "\n",
    "1. **During training**, the model randomly \"drops\" (sets to zero) **50% of the neurons** in the specified layer **at each iteration**.  \n",
    "2. This forces the network to **learn multiple independent representations**, making it **more robust** and **less reliant on specific neurons**.  \n",
    "3. **During inference (testing/prediction), dropout is turned off**, and all neurons contribute to the final prediction. However, their outputs are **scaled down** to match the expected magnitude.  \n",
    "\n",
    "---\n",
    "\n",
    "### **Why Use Dropout?**\n",
    "- **Reduces Overfitting** – Prevents the model from relying too much on specific neurons.  \n",
    "- **Encourages Generalization** – Forces different parts of the network to learn useful patterns.  \n",
    "- **Acts Like an Ensemble Method** – By training on different \"sub-networks,\" it mimics the effect of training multiple models.  \n",
    "\n",
    "---\n",
    "\n",
    "### **Choosing the Dropout Rate**\n",
    "- **0.1 - 0.3** → Small dropout, prevents mild overfitting.  \n",
    "- **0.4 - 0.6** → Moderate dropout, commonly used in deep networks.  \n",
    "- **0.7+** → Very aggressive, can lead to underfitting.  \n",
    "\n",
    "Therefore, it is very important to choose a dropout rate that is not to small or too large in order to prevent both overfitting and underfitting. However, there is not generally accepted dropout rate, it depends on your data. Whether a dropout rate is too small or too large is also data specific."
   ]
  },
  {
   "cell_type": "code",
   "execution_count": 18,
   "id": "d58ecc08-8afd-4a1c-9788-6493a3f06e6f",
   "metadata": {},
   "outputs": [
    {
     "name": "stdout",
     "output_type": "stream",
     "text": [
      "Model: \"sequential_3\"\n",
      "_________________________________________________________________\n",
      "Layer (type)                 Output Shape              Param #   \n",
      "=================================================================\n",
      "sequential_2 (Sequential)    (None, 28, 28, 1)         0         \n",
      "_________________________________________________________________\n",
      "conv2d_2 (Conv2D)            (None, 26, 26, 32)        320       \n",
      "_________________________________________________________________\n",
      "batch_normalization (BatchNo (None, 26, 26, 32)        128       \n",
      "_________________________________________________________________\n",
      "max_pooling2d_2 (MaxPooling2 (None, 13, 13, 32)        0         \n",
      "_________________________________________________________________\n",
      "conv2d_3 (Conv2D)            (None, 11, 11, 64)        18496     \n",
      "_________________________________________________________________\n",
      "batch_normalization_1 (Batch (None, 11, 11, 64)        256       \n",
      "_________________________________________________________________\n",
      "max_pooling2d_3 (MaxPooling2 (None, 5, 5, 64)          0         \n",
      "_________________________________________________________________\n",
      "flatten_2 (Flatten)          (None, 1600)              0         \n",
      "_________________________________________________________________\n",
      "dense_4 (Dense)              (None, 128)               204928    \n",
      "_________________________________________________________________\n",
      "dropout_2 (Dropout)          (None, 128)               0         \n",
      "_________________________________________________________________\n",
      "dense_5 (Dense)              (None, 10)                1290      \n",
      "=================================================================\n",
      "Total params: 225,418\n",
      "Trainable params: 225,226\n",
      "Non-trainable params: 192\n",
      "_________________________________________________________________\n"
     ]
    }
   ],
   "source": [
    "model = keras.Sequential([\n",
    "    data_augmentation,  # Apply augmentation to input images\n",
    "\n",
    "    # First convolutional block\n",
    "    keras.layers.Conv2D(32, (3, 3), activation='relu', input_shape=(28, 28, 1)),\n",
    "    keras.layers.BatchNormalization(),\n",
    "    keras.layers.MaxPooling2D(pool_size=(2, 2)),\n",
    "\n",
    "    # Second convolutional block\n",
    "    keras.layers.Conv2D(64, (3, 3), activation='relu'),\n",
    "    keras.layers.BatchNormalization(),\n",
    "    keras.layers.MaxPooling2D(pool_size=(2, 2)),\n",
    "\n",
    "    # Flatten and Fully Connected Layers\n",
    "    keras.layers.Flatten(),\n",
    "    keras.layers.Dense(128, activation='relu'),\n",
    "    keras.layers.Dropout(0.5),  # Reduce overfitting. This drops out 50% of the nodes, per each iteration.\n",
    "\n",
    "    # Output Layer\n",
    "    keras.layers.Dense(10, activation='softmax')\n",
    "])\n",
    "\n",
    "# Compile the model\n",
    "model.compile(optimizer='adam',\n",
    "              loss='sparse_categorical_crossentropy',\n",
    "              metrics=['accuracy'])\n",
    "\n",
    "# Build and display the model summary\n",
    "model.build(input_shape=(None, 28, 28, 1))  # None is used for batch size\n",
    "model.summary()"
   ]
  },
  {
   "cell_type": "markdown",
   "id": "e1d83f08-0e63-4840-89db-528af0c985f7",
   "metadata": {
    "tags": []
   },
   "source": [
    "### **Step 6: Train the Model with TensorBoard**"
   ]
  },
  {
   "cell_type": "code",
   "execution_count": 19,
   "id": "85e1f85e-f92d-4509-8c33-f66524f23232",
   "metadata": {},
   "outputs": [
    {
     "name": "stdout",
     "output_type": "stream",
     "text": [
      "Epoch 1/15\n",
      "  6/938 [..............................] - ETA: 39s - loss: 2.6852 - accuracy: 0.2943 "
     ]
    },
    {
     "name": "stderr",
     "output_type": "stream",
     "text": [
      "2025-02-11 12:22:55.075229: I tensorflow/core/profiler/lib/profiler_session.cc:131] Profiler session initializing.\n",
      "2025-02-11 12:22:55.075264: I tensorflow/core/profiler/lib/profiler_session.cc:146] Profiler session started.\n",
      "2025-02-11 12:22:55.095899: I tensorflow/core/profiler/lib/profiler_session.cc:66] Profiler session collecting data.\n",
      "2025-02-11 12:22:55.097526: I tensorflow/core/profiler/lib/profiler_session.cc:164] Profiler session tear down.\n",
      "2025-02-11 12:22:55.138621: I tensorflow/core/profiler/rpc/client/save_profile.cc:136] Creating directory: /bsuhome/tnde/scratch/tensorboard/logs/fit/20250211-122252/train/plugins/profile/2025_02_11_12_22_55\n",
      "\n",
      "2025-02-11 12:22:55.142900: I tensorflow/core/profiler/rpc/client/save_profile.cc:142] Dumped gzipped tool data for trace.json.gz to /bsuhome/tnde/scratch/tensorboard/logs/fit/20250211-122252/train/plugins/profile/2025_02_11_12_22_55/cpu139.trace.json.gz\n",
      "2025-02-11 12:22:55.146452: I tensorflow/core/profiler/rpc/client/save_profile.cc:136] Creating directory: /bsuhome/tnde/scratch/tensorboard/logs/fit/20250211-122252/train/plugins/profile/2025_02_11_12_22_55\n",
      "\n",
      "2025-02-11 12:22:55.163323: I tensorflow/core/profiler/rpc/client/save_profile.cc:142] Dumped gzipped tool data for memory_profile.json.gz to /bsuhome/tnde/scratch/tensorboard/logs/fit/20250211-122252/train/plugins/profile/2025_02_11_12_22_55/cpu139.memory_profile.json.gz\n",
      "2025-02-11 12:22:55.186546: I tensorflow/core/profiler/rpc/client/capture_profile.cc:251] Creating directory: /bsuhome/tnde/scratch/tensorboard/logs/fit/20250211-122252/train/plugins/profile/2025_02_11_12_22_55\n",
      "Dumped tool data for xplane.pb to /bsuhome/tnde/scratch/tensorboard/logs/fit/20250211-122252/train/plugins/profile/2025_02_11_12_22_55/cpu139.xplane.pb\n",
      "Dumped tool data for overview_page.pb to /bsuhome/tnde/scratch/tensorboard/logs/fit/20250211-122252/train/plugins/profile/2025_02_11_12_22_55/cpu139.overview_page.pb\n",
      "Dumped tool data for input_pipeline.pb to /bsuhome/tnde/scratch/tensorboard/logs/fit/20250211-122252/train/plugins/profile/2025_02_11_12_22_55/cpu139.input_pipeline.pb\n",
      "Dumped tool data for tensorflow_stats.pb to /bsuhome/tnde/scratch/tensorboard/logs/fit/20250211-122252/train/plugins/profile/2025_02_11_12_22_55/cpu139.tensorflow_stats.pb\n",
      "Dumped tool data for kernel_stats.pb to /bsuhome/tnde/scratch/tensorboard/logs/fit/20250211-122252/train/plugins/profile/2025_02_11_12_22_55/cpu139.kernel_stats.pb\n",
      "\n"
     ]
    },
    {
     "name": "stdout",
     "output_type": "stream",
     "text": [
      "938/938 [==============================] - 19s 19ms/step - loss: 0.7870 - accuracy: 0.7147 - val_loss: 0.6088 - val_accuracy: 0.7693\n",
      "Epoch 2/15\n",
      "938/938 [==============================] - 17s 18ms/step - loss: 0.5915 - accuracy: 0.7836 - val_loss: 0.5084 - val_accuracy: 0.8220\n",
      "Epoch 3/15\n",
      "938/938 [==============================] - 17s 18ms/step - loss: 0.5289 - accuracy: 0.8098 - val_loss: 0.5158 - val_accuracy: 0.8044\n",
      "Epoch 4/15\n",
      "938/938 [==============================] - 17s 19ms/step - loss: 0.4926 - accuracy: 0.8225 - val_loss: 0.4575 - val_accuracy: 0.8296\n",
      "Epoch 5/15\n",
      "938/938 [==============================] - 17s 18ms/step - loss: 0.4748 - accuracy: 0.8289 - val_loss: 0.4297 - val_accuracy: 0.8478\n",
      "Epoch 6/15\n",
      "938/938 [==============================] - 19s 20ms/step - loss: 0.4514 - accuracy: 0.8357 - val_loss: 0.4002 - val_accuracy: 0.8539\n",
      "Epoch 7/15\n",
      "938/938 [==============================] - 20s 22ms/step - loss: 0.4348 - accuracy: 0.8414 - val_loss: 0.4542 - val_accuracy: 0.8457\n",
      "Epoch 8/15\n",
      "938/938 [==============================] - 21s 23ms/step - loss: 0.4204 - accuracy: 0.8471 - val_loss: 0.3778 - val_accuracy: 0.8643\n",
      "Epoch 9/15\n",
      "938/938 [==============================] - 22s 24ms/step - loss: 0.4141 - accuracy: 0.8498 - val_loss: 0.4262 - val_accuracy: 0.8413\n",
      "Epoch 10/15\n",
      "938/938 [==============================] - 21s 23ms/step - loss: 0.4012 - accuracy: 0.8538 - val_loss: 0.5512 - val_accuracy: 0.8186\n",
      "Epoch 11/15\n",
      "938/938 [==============================] - 21s 22ms/step - loss: 0.3941 - accuracy: 0.8569 - val_loss: 0.3825 - val_accuracy: 0.8611\n",
      "Epoch 12/15\n",
      "938/938 [==============================] - 23s 24ms/step - loss: 0.3876 - accuracy: 0.8582 - val_loss: 0.3926 - val_accuracy: 0.8565\n",
      "Epoch 13/15\n",
      "938/938 [==============================] - 22s 23ms/step - loss: 0.3814 - accuracy: 0.8616 - val_loss: 0.3819 - val_accuracy: 0.8641\n",
      "Epoch 14/15\n",
      "938/938 [==============================] - 24s 25ms/step - loss: 0.3790 - accuracy: 0.8622 - val_loss: 0.3999 - val_accuracy: 0.8528\n",
      "Epoch 15/15\n",
      "938/938 [==============================] - 21s 22ms/step - loss: 0.3687 - accuracy: 0.8662 - val_loss: 0.3441 - val_accuracy: 0.8777\n"
     ]
    }
   ],
   "source": [
    "history = model.fit(x_train, y_train, \n",
    "                    epochs=15, \n",
    "                    validation_data=(x_test, y_test), \n",
    "                    batch_size=64,\n",
    "                    callbacks=[tensorboard_callback])  # TensorBoard callback"
   ]
  },
  {
   "cell_type": "markdown",
   "id": "86b07520-aa70-44de-81b1-9e8f0e68d114",
   "metadata": {},
   "source": [
    "### **Step 8: Visualize Training Progress with TensorBoard**\n",
    "To launch TensorBoard, run this command in your terminal\n",
    "\n",
    "```ruby\n",
    "tensorboard --logdir=logs/fit\n",
    "```\n",
    "\n",
    "Then, open a web browser and go to:\n",
    "[http://localhost:6006/](http://localhost:6006/)\n",
    "\n",
    "\n",
    "##### **On Borah, you may not be able to use tensorboard if you do not have GPU access. One possible solution is to install `tensorflow-cpu` instead. It is the CPU-only version of TensorFlor. If you do have GPU access, make sure CUDA is properly loaded.**"
   ]
  },
  {
   "cell_type": "code",
   "execution_count": 24,
   "id": "44772800-6f8d-442a-ac87-b360b291101f",
   "metadata": {},
   "outputs": [],
   "source": [
    "# from tensorboard import notebook\n",
    "# notebook.list() # View open TensorBoard instances\n",
    "# notebook.display(port=6006, height=1000)"
   ]
  },
  {
   "cell_type": "markdown",
   "id": "7063368d-44ce-49d5-b844-ebb30e5f24d1",
   "metadata": {},
   "source": [
    "### **Step 7: Evaluate the Model**"
   ]
  },
  {
   "cell_type": "code",
   "execution_count": 21,
   "id": "7815a3b0-b309-4144-9965-ff9cb8c06c58",
   "metadata": {},
   "outputs": [
    {
     "name": "stdout",
     "output_type": "stream",
     "text": [
      "313/313 [==============================] - 1s 2ms/step - loss: 0.3441 - accuracy: 0.8777\n",
      "Test Accuracy: 0.8777\n"
     ]
    }
   ],
   "source": [
    "test_loss, test_acc = model.evaluate(x_test, y_test)\n",
    "print(f\"Test Accuracy: {test_acc:.4f}\")"
   ]
  },
  {
   "cell_type": "markdown",
   "id": "df0d8d43-974c-4870-8fd8-3ea013428ea7",
   "metadata": {},
   "source": [
    "### **Step 9: Plot Training Accuracy & Loss**"
   ]
  },
  {
   "cell_type": "code",
   "execution_count": 22,
   "id": "83b4a89f-53b8-4ae2-a4bc-a093c2d1827a",
   "metadata": {},
   "outputs": [
    {
     "data": {
      "image/png": "[encoded data removed]",
      "text/plain": [
       "<Figure size 640x480 with 1 Axes>"
      ]
     },
     "metadata": {},
     "output_type": "display_data"
    },
    {
     "data": {
      "image/png": "[encoded data removed]",
      "text/plain": [
       "<Figure size 640x480 with 1 Axes>"
      ]
     },
     "metadata": {},
     "output_type": "display_data"
    }
   ],
   "source": [
    "# Plot Accuracy\n",
    "plt.plot(history.history['accuracy'], label='Train Accuracy')\n",
    "plt.plot(history.history['val_accuracy'], label='Validation Accuracy')\n",
    "plt.xlabel('Epochs')\n",
    "plt.ylabel('Accuracy')\n",
    "plt.legend()\n",
    "plt.show()\n",
    "\n",
    "# Plot Loss\n",
    "plt.plot(history.history['loss'], label='Train Loss')\n",
    "plt.plot(history.history['val_loss'], label='Validation Loss')\n",
    "plt.xlabel('Epochs')\n",
    "plt.ylabel('Loss')\n",
    "plt.legend()\n",
    "plt.show()"
   ]
  },
  {
   "cell_type": "markdown",
   "id": "645e3dc6-04e9-46fb-80c1-52ba28b27cc9",
   "metadata": {},
   "source": [
    "### **Step 10: Make Predictions on Test Data**"
   ]
  },
  {
   "cell_type": "code",
   "execution_count": 23,
   "id": "144f84e3-60b4-4863-a7a2-90773170ccaf",
   "metadata": {},
   "outputs": [
    {
     "data": {
      "image/png": "[encoded data removed]",
      "text/plain": [
       "<Figure size 640x480 with 1 Axes>"
      ]
     },
     "metadata": {},
     "output_type": "display_data"
    }
   ],
   "source": [
    "predictions = model.predict(x_test)\n",
    "\n",
    "# Plot an example image and its predicted label\n",
    "plt.imshow(x_test[0].reshape(28, 28), cmap='gray')\n",
    "plt.title(f\"Predicted: {np.argmax(predictions[0])}, Actual: {y_test[0]}\")\n",
    "plt.show()"
   ]
  },
  {
   "cell_type": "markdown",
   "id": "6630b01f-509a-492e-89dc-aca8bcf6a6c1",
   "metadata": {},
   "source": [
    "### **Next Steps for Even More Complexity**\n",
    "- Use a Pretrained Model - Apply transfer learning with models like ResNet or VGG16.\n",
    "- Experiment with Hyperparameters - Change optimizer, batch size, or learning rate.\n",
    "- Train on a Custom Dataset - Try a dataset from Kaggle or Google Dataset Search.\n",
    "- Optimize for Deployment - Convert the model to TF Lite or TensorFlow.js."
   ]
  },
  {
   "cell_type": "code",
   "execution_count": 1,
   "id": "90cfa80b-543d-49b0-88bb-6b6c36e89a5c",
   "metadata": {},
   "outputs": [],
   "source": [
    "# The End."
   ]
  },
  {
   "cell_type": "markdown",
   "id": "1c709df1-0ecf-4401-a129-b3330cd2e2b4",
   "metadata": {},
   "source": [
    "## The End."
   ]
  }
 ],
 "metadata": {
  "kernelspec": {
   "display_name": "ml_tutorial",
   "language": "python",
   "name": "ml_tutorial"
  },
  "language_info": {
   "codemirror_mode": {
    "name": "ipython",
    "version": 3
   },
   "file_extension": ".py",
   "mimetype": "text/x-python",
   "name": "python",
   "nbconvert_exporter": "python",
   "pygments_lexer": "ipython3",
   "version": "3.9.15"
  }
 },
 "nbformat": 4,
 "nbformat_minor": 5
}
