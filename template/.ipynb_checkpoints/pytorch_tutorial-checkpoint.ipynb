{
 "cells": [
  {
   "cell_type": "markdown",
   "id": "0a14f733-6ecd-426c-9a31-a535e7f11f9d",
   "metadata": {},
   "source": [
    "# **Machine Learning Tutorial - TensorFlow**\n",
    "\n",
    "This Jupyter Notebook files is a simple tutorial for Python users on the BSU Borah cluster. We will focus on PyTorch in this tutorial.\n",
    "\n",
    "## **Scenario 1: Starting a new project.**\n",
    "\n",
    "If you are starting a new project, it is better to create a new Python environment and install all the packages needed in it. Follow the steps in the link below to create a new Python environment on Borah.\n",
    "\n",
    "[Click here](https://bsu-docs.readthedocs.io/en/latest/software/conda/)\n",
    "    \n",
    "For simplicity I will show the steps here, assuming that you will not need to use GPUs and already have conda/mamba installed. Ideally, if you know all the packages you will be using in your project, then it is better to install all of them at the point of creating your Python environment. This helps to prevent conflicts between package versions and dependencies. Here, we will create a new Python environment calle `ml_tutorial` that has some of the most popular and widely used Machine Learning (ML) Python packages installed in it. In this environment we need the following packages:\n",
    "- pandas\n",
    "- numpy\n",
    "- matplotlib\n",
    "- ipykernel\n",
    "- pytorch (Note: Torch (built on Lua, a scripting language) and and PyTorch (built on Python) differ in origin. Also, the community and support for torch is diminishing, so it recommended to install PyTorch instead of torch. However, in Python, torch is the main package name for PyTorch. When you install PyTorch, you import it using `import torch`, not `import pytorch`.\n",
    "- torchvision\n",
    "- tensorflow\n",
    "- tensorflow-gpu (for those who have need for GPUs)\n",
    "- tensorboard\n",
    "- scikit-learn\n",
    "\n",
    "Notice, how there are no white spaces in my environment name. This is very important. You can change the environment.\n",
    "\n",
    "Also note, per the new tensorflow update, once you install tensorflow you don't necessary have to install tensorbaord separately. However, for the purpose of this tutorial, I will just go ahead to install the two of them separately.\n",
    "     \n",
    "Run the following commands:\n",
    "\n",
    "### **Step 1: Create a Python environment**\n",
    "\n",
    "``` ruby\n",
    "mamba create -n ml_tutorial -c conda-forge matplotlib numpy pandas ipykernel pytorch torchvision tensorflow tensorflow-gpu tensorboard scikit-learn\n",
    "```\n",
    "\n",
    "By extension, if you have up to `n` packages, then the code will be:\n",
    "\n",
    "```ruby\n",
    "mamba create -n climate -c conda-forge package1 package2 package3 ... packagen\n",
    "```\n",
    "\n",
    "### **Step 2: Add your environment to Borah `OnDemand`**\n",
    "\n",
    "``` ruby\n",
    "python -m ipykernel install --user --name ml_tutorial --display-name \"ml_tutorial\"\n",
    "```\n",
    "\n",
    "## **Scenario 2: Installing in an already existing Python environment**\n",
    "If you already have and existing Python environment for your project, but wants to install additional Python libraries for your ML applications, then just simply skip creating a new Python environment. Just be aware that sometimes, you might have conflicts with some package versions and dependencies, this is normal and can be fixed. Though, sometimes the conflicts are not so easily fixed.\n",
    "\n",
    "```ruby\n",
    "mamba install -c conda-forge package1 package2 package3 ... packagen\n",
    "```\n",
    "\n",
    "Thus, by extension, if we only want to install the ML libraries in our existing Python environment, we will use the following command.\n",
    "\n",
    "```ruby\n",
    "mamba install -c conda-forge pytorch torchvision tensorflow tensorflow-gpu tensorboard scikit-learn\n",
    "```\n",
    "\n",
    "Great!!! \n",
    "Now the rest of this notebook demonstrates how to do a simple analysis using PyTorch.\n",
    "\n",
    "## **ML Tutorial**\n",
    "Here we will rely on some in-built datasets in Python to build very simple ML models. Note that the idea here is to demonstrate simply how to install and use this libraries on Borah. We don't care so much about the model's accuracy or performance.\n",
    "\n",
    "### **The MNIST Problem: Handwritten Digit Classification**  \n",
    "\n",
    "### **Overview**  \n",
    "The **MNIST (Modified National Institute of Standards and Technology) dataset** is a classic **machine learning problem** where the goal is to classify **handwritten digits (0-9)**. The dataset consists of **70,000 grayscale images** of digits, each **28×28 pixels** in size.  \n",
    "\n",
    "#### **Why is MNIST Important?**  \n",
    "- It serves as the **\"Hello World\"** of deep learning and computer vision.\n",
    "- It helps in testing **image classification algorithms**.\n",
    "- It is small and easy to use but still challenging enough to evaluate different models.\n",
    "\n",
    "---\n",
    "\n",
    "### **Problem Definition**\n",
    "The task is to train a **machine learning model** that can **automatically recognize handwritten digits** from images.\n",
    "\n",
    "1. **Input:** A **grayscale image (28×28 pixels)** of a handwritten digit.\n",
    "2. **Output:** A **single label (0-9)** representing the digit in the image.\n",
    "3. **Model Type:** This is a **supervised classification** problem.\n",
    "\n",
    "---\n",
    "\n",
    "### **Dataset Breakdown**\n",
    "- **Training Set:** 60,000 images.\n",
    "- **Test Set:** 10,000 images.\n",
    "- **Classes:** 10 (digits 0-9).\n",
    "- **Image Properties:**\n",
    "  - 28×28 pixels.\n",
    "  - Each pixel has a value between **0 (black) and 255 (white)**.\n",
    "  - No color channels (grayscale).\n",
    "  - Images vary in style due to different handwriting.\n",
    "\n",
    "---\n",
    "\n",
    "### **Challenges of the MNIST Problem**\n",
    "1. **Variability in Handwriting:** Different people write digits differently.\n",
    "2. **Noise in Data:** Some images might be blurry or poorly written.\n",
    "3. **Generalization:** The model should work on unseen handwritten digits.\n",
    "\n",
    "---\n",
    "\n",
    "### **Approaches to Solve MNIST**\n",
    "There are several ways to tackle the problem:\n",
    "\n",
    "| Approach | Method |\n",
    "|----------|--------|\n",
    "| **Basic Approach** | Logistic Regression, k-Nearest Neighbors (KNN) |\n",
    "| **Deep Learning Approach** | Fully Connected Neural Networks (FCNN) |\n",
    "| **Advanced Approach** | Convolutional Neural Networks (CNNs) |\n",
    "\n",
    "---\n",
    "\n",
    "### **Applications of MNIST Classification**\n",
    "- Optical Character Recognition (**OCR**) in postal services.\n",
    "- Digit recognition for **bank check processing**.\n",
    "- Handwriting analysis in **touchscreen devices**.\n",
    "\n",
    "### **Tutorial 1: PyTorch Machine Learning Tutorial**\n",
    "**Objective: Train an ML model using PyTorch to classify images in the MNIST dataset (handwritten digits from 0 to 9).**\n",
    "\n",
    "Note that this Jupyter Notebook is the PyTorch version of the TensorFlow tutorial already provided.\n",
    "\n",
    "### **Step 1: Import Required Libraries**"
   ]
  },
  {
   "cell_type": "code",
   "execution_count": 1,
   "id": "90cfa80b-543d-49b0-88bb-6b6c36e89a5c",
   "metadata": {},
   "outputs": [],
   "source": [
    "import torch\n",
    "import torchvision\n",
    "import torch.nn as nn\n",
    "import torch.optim as optim\n",
    "import matplotlib.pyplot as plt\n",
    "import torchvision.transforms as transforms"
   ]
  },
  {
   "cell_type": "markdown",
   "id": "1c709df1-0ecf-4401-a129-b3330cd2e2b4",
   "metadata": {},
   "source": [
    "### **Step 2: Load the MNIST Dataset**\n",
    "The MNIST dataset consists of 28×28 grayscale images of handwritten digits (0-9).\n",
    "We'll use torchvision to load and preprocess the data."
   ]
  },
  {
   "cell_type": "code",
   "execution_count": 2,
   "id": "cfb43a2e-b044-466e-bf0c-ddee47127730",
   "metadata": {},
   "outputs": [
    {
     "name": "stdout",
     "output_type": "stream",
     "text": [
      "Downloading http://yann.lecun.com/exdb/mnist/train-images-idx3-ubyte.gz\n",
      "Failed to download (trying next):\n",
      "HTTP Error 404: Not Found\n",
      "\n",
      "Downloading https://ossci-datasets.s3.amazonaws.com/mnist/train-images-idx3-ubyte.gz\n",
      "Downloading https://ossci-datasets.s3.amazonaws.com/mnist/train-images-idx3-ubyte.gz to /bsuhome/tnde/scratch/ml_tutorials/data/MNIST/raw/train-images-idx3-ubyte.gz\n"
     ]
    },
    {
     "name": "stderr",
     "output_type": "stream",
     "text": [
      "100.0%\n"
     ]
    },
    {
     "name": "stdout",
     "output_type": "stream",
     "text": [
      "Extracting /bsuhome/tnde/scratch/ml_tutorials/data/MNIST/raw/train-images-idx3-ubyte.gz to /bsuhome/tnde/scratch/ml_tutorials/data/MNIST/raw\n",
      "\n",
      "Downloading http://yann.lecun.com/exdb/mnist/train-labels-idx1-ubyte.gz\n",
      "Failed to download (trying next):\n",
      "HTTP Error 404: Not Found\n",
      "\n",
      "Downloading https://ossci-datasets.s3.amazonaws.com/mnist/train-labels-idx1-ubyte.gz\n",
      "Downloading https://ossci-datasets.s3.amazonaws.com/mnist/train-labels-idx1-ubyte.gz to /bsuhome/tnde/scratch/ml_tutorials/data/MNIST/raw/train-labels-idx1-ubyte.gz\n"
     ]
    },
    {
     "name": "stderr",
     "output_type": "stream",
     "text": [
      "102.8%\n"
     ]
    },
    {
     "name": "stdout",
     "output_type": "stream",
     "text": [
      "Extracting /bsuhome/tnde/scratch/ml_tutorials/data/MNIST/raw/train-labels-idx1-ubyte.gz to /bsuhome/tnde/scratch/ml_tutorials/data/MNIST/raw\n",
      "\n",
      "Downloading http://yann.lecun.com/exdb/mnist/t10k-images-idx3-ubyte.gz\n",
      "Failed to download (trying next):\n",
      "HTTP Error 404: Not Found\n",
      "\n",
      "Downloading https://ossci-datasets.s3.amazonaws.com/mnist/t10k-images-idx3-ubyte.gz\n",
      "Downloading https://ossci-datasets.s3.amazonaws.com/mnist/t10k-images-idx3-ubyte.gz to /bsuhome/tnde/scratch/ml_tutorials/data/MNIST/raw/t10k-images-idx3-ubyte.gz\n"
     ]
    },
    {
     "name": "stderr",
     "output_type": "stream",
     "text": [
      "100.0%\n"
     ]
    },
    {
     "name": "stdout",
     "output_type": "stream",
     "text": [
      "Extracting /bsuhome/tnde/scratch/ml_tutorials/data/MNIST/raw/t10k-images-idx3-ubyte.gz to /bsuhome/tnde/scratch/ml_tutorials/data/MNIST/raw\n",
      "\n",
      "Downloading http://yann.lecun.com/exdb/mnist/t10k-labels-idx1-ubyte.gz\n",
      "Failed to download (trying next):\n",
      "HTTP Error 404: Not Found\n",
      "\n",
      "Downloading https://ossci-datasets.s3.amazonaws.com/mnist/t10k-labels-idx1-ubyte.gz\n",
      "Downloading https://ossci-datasets.s3.amazonaws.com/mnist/t10k-labels-idx1-ubyte.gz to /bsuhome/tnde/scratch/ml_tutorials/data/MNIST/raw/t10k-labels-idx1-ubyte.gz\n"
     ]
    },
    {
     "name": "stderr",
     "output_type": "stream",
     "text": [
      "112.7%"
     ]
    },
    {
     "name": "stdout",
     "output_type": "stream",
     "text": [
      "Extracting /bsuhome/tnde/scratch/ml_tutorials/data/MNIST/raw/t10k-labels-idx1-ubyte.gz to /bsuhome/tnde/scratch/ml_tutorials/data/MNIST/raw\n",
      "\n",
      "Training dataset size: 60000\n",
      "Test dataset size: 10000\n"
     ]
    },
    {
     "name": "stderr",
     "output_type": "stream",
     "text": [
      "\n"
     ]
    }
   ],
   "source": [
    "# Define transformation to normalize the data\n",
    "transform = transforms.Compose([transforms.ToTensor(), transforms.Normalize((0.5,), (0.5,))])\n",
    "\n",
    "# Load training and test datasets\n",
    "train_dataset = torchvision.datasets.MNIST(root='/bsuhome/tnde/scratch/ml_tutorials/data', train=True, transform=transform, download=True)\n",
    "test_dataset = torchvision.datasets.MNIST(root='/bsuhome/tnde/scratch/ml_tutorials/data', train=False, transform=transform, download=True)\n",
    "\n",
    "# Create data loaders for batching\n",
    "train_loader = torch.utils.data.DataLoader(train_dataset, batch_size=64, shuffle=True)\n",
    "test_loader = torch.utils.data.DataLoader(test_dataset, batch_size=64, shuffle=False)\n",
    "\n",
    "# Check dataset shape\n",
    "print(f\"Training dataset size: {len(train_dataset)}\")\n",
    "print(f\"Test dataset size: {len(test_dataset)}\")"
   ]
  },
  {
   "cell_type": "markdown",
   "id": "3b1c4c22-eef1-4212-89ac-682a07b596b9",
   "metadata": {},
   "source": [
    "### **Step 3: Build a Neural Network Model**\n",
    "We define a feedforward neural network with one hidden layer."
   ]
  },
  {
   "cell_type": "code",
   "execution_count": 3,
   "id": "d3c3c8c6-2cf4-455e-9e82-e0813e331092",
   "metadata": {},
   "outputs": [
    {
     "data": {
      "text/plain": [
       "NeuralNet(\n",
       "  (flatten): Flatten(start_dim=1, end_dim=-1)\n",
       "  (fc1): Linear(in_features=784, out_features=128, bias=True)\n",
       "  (relu): ReLU()\n",
       "  (dropout): Dropout(p=0.2, inplace=False)\n",
       "  (fc2): Linear(in_features=128, out_features=10, bias=True)\n",
       ")"
      ]
     },
     "execution_count": 3,
     "metadata": {},
     "output_type": "execute_result"
    }
   ],
   "source": [
    "class NeuralNet(nn.Module):\n",
    "    def __init__(self):\n",
    "        super(NeuralNet, self).__init__()\n",
    "        self.flatten = nn.Flatten()  # Flatten 28x28 images into 1D array\n",
    "        self.fc1 = nn.Linear(28*28, 128)  # Fully connected layer with 128 neurons\n",
    "        self.relu = nn.ReLU()  # Activation function\n",
    "        self.dropout = nn.Dropout(0.2)  # Dropout to reduce overfitting\n",
    "        self.fc2 = nn.Linear(128, 10)  # Output layer with 10 classes (digits 0-9)\n",
    "\n",
    "    def forward(self, x):\n",
    "        x = self.flatten(x)\n",
    "        x = self.fc1(x)\n",
    "        x = self.relu(x)\n",
    "        x = self.dropout(x)\n",
    "        x = self.fc2(x)\n",
    "        return x\n",
    "\n",
    "# Instantiate the model\n",
    "model = NeuralNet()\n",
    "\n",
    "# Define loss function and optimizer\n",
    "criterion = nn.CrossEntropyLoss()\n",
    "optimizer = optim.Adam(model.parameters(), lr=0.001)\n",
    "\n",
    "# Move model to GPU if available\n",
    "device = torch.device(\"cuda\" if torch.cuda.is_available() else \"cpu\")\n",
    "model.to(device)"
   ]
  },
  {
   "cell_type": "markdown",
   "id": "d3a752d4-336f-481b-92e5-9bd34b1f88b9",
   "metadata": {},
   "source": [
    "### **Step 4: Train the Model**"
   ]
  },
  {
   "cell_type": "code",
   "execution_count": 4,
   "id": "3d5b2e51-6d9c-40cf-a247-3e1bf0445b5c",
   "metadata": {},
   "outputs": [
    {
     "name": "stdout",
     "output_type": "stream",
     "text": [
      "Epoch [1/10], Loss: 0.4327\n",
      "Epoch [2/10], Loss: 0.2336\n",
      "Epoch [3/10], Loss: 0.1881\n",
      "Epoch [4/10], Loss: 0.1610\n",
      "Epoch [5/10], Loss: 0.1486\n",
      "Epoch [6/10], Loss: 0.1370\n",
      "Epoch [7/10], Loss: 0.1290\n",
      "Epoch [8/10], Loss: 0.1210\n",
      "Epoch [9/10], Loss: 0.1191\n",
      "Epoch [10/10], Loss: 0.1122\n",
      "Training complete!\n"
     ]
    }
   ],
   "source": [
    "num_epochs = 10\n",
    "\n",
    "for epoch in range(num_epochs):\n",
    "    model.train()  # Set model to training mode\n",
    "    running_loss = 0.0\n",
    "    \n",
    "    for images, labels in train_loader:\n",
    "        images, labels = images.to(device), labels.to(device)  # Move to GPU if available\n",
    "        \n",
    "        optimizer.zero_grad()  # Zero the gradients\n",
    "        outputs = model(images)  # Forward pass\n",
    "        loss = criterion(outputs, labels)  # Compute loss\n",
    "        loss.backward()  # Backpropagation\n",
    "        optimizer.step()  # Update weights\n",
    "        \n",
    "        running_loss += loss.item()\n",
    "    \n",
    "    print(f\"Epoch [{epoch+1}/{num_epochs}], Loss: {running_loss/len(train_loader):.4f}\")\n",
    "\n",
    "print(\"Training complete!\")"
   ]
  },
  {
   "cell_type": "markdown",
   "id": "b62f4fdf-0a8e-4b29-9dfd-4dc80ee1a83d",
   "metadata": {},
   "source": [
    "### **Step 5: Evaluate the Model**"
   ]
  },
  {
   "cell_type": "code",
   "execution_count": 5,
   "id": "e52b7245-3214-4a9f-af62-c964f15536f3",
   "metadata": {},
   "outputs": [
    {
     "name": "stdout",
     "output_type": "stream",
     "text": [
      "Test Accuracy: 0.9724\n"
     ]
    }
   ],
   "source": [
    "model.eval()  # Set model to evaluation mode\n",
    "correct = 0\n",
    "total = 0\n",
    "\n",
    "with torch.no_grad():\n",
    "    for images, labels in test_loader:\n",
    "        images, labels = images.to(device), labels.to(device)  # Move to GPU if available\n",
    "        outputs = model(images)\n",
    "        _, predicted = torch.max(outputs, 1)  # Get the class with highest probability\n",
    "        total += labels.size(0)\n",
    "        correct += (predicted == labels).sum().item()\n",
    "\n",
    "accuracy = correct / total\n",
    "print(f\"Test Accuracy: {accuracy:.4f}\")"
   ]
  },
  {
   "cell_type": "markdown",
   "id": "299c3c62-6447-44b4-b658-6836b27fd186",
   "metadata": {},
   "source": [
    "### **Step 6: Make Predictions**"
   ]
  },
  {
   "cell_type": "code",
   "execution_count": 6,
   "id": "c8a76f91-399b-4eb7-b517-4c83ae414fe1",
   "metadata": {},
   "outputs": [
    {
     "data": {
      "image/png": "[encoded data removed]",
      "text/plain": [
       "<Figure size 640x480 with 1 Axes>"
      ]
     },
     "metadata": {},
     "output_type": "display_data"
    }
   ],
   "source": [
    "# Get a batch of test images\n",
    "images, labels = next(iter(test_loader))\n",
    "images, labels = images.to(device), labels.to(device)\n",
    "\n",
    "# Make predictions\n",
    "model.eval()\n",
    "with torch.no_grad():\n",
    "    outputs = model(images)\n",
    "    _, predicted = torch.max(outputs, 1)\n",
    "\n",
    "# Display an example image and prediction\n",
    "plt.imshow(images[0].cpu().squeeze(), cmap='gray')\n",
    "plt.title(f\"Predicted: {predicted[0].item()}, Actual: {labels[0].item()}\")\n",
    "plt.show()"
   ]
  },
  {
   "cell_type": "markdown",
   "id": "c8540e46-7cd1-4844-b11e-f20f4a651641",
   "metadata": {},
   "source": [
    "### **Next Steps**\n",
    "- Try using a Convolutional Neural Network (CNN) for better performance.\n",
    "- Experiment with different optimizers and activation functions.\n",
    "- Use a custom dataset (e.g., images of animals or handwritten characters)."
   ]
  },
  {
   "cell_type": "code",
   "execution_count": null,
   "id": "b139bea8-374e-4d38-9117-41ce3792de7b",
   "metadata": {},
   "outputs": [],
   "source": []
  },
  {
   "cell_type": "markdown",
   "id": "ad67ba6d-df22-4fac-9bee-f7cc6817c49e",
   "metadata": {},
   "source": [
    "## **PyTorch CNN Tutorial: Handwritten Digit Classification**\n",
    "**Objective: Train a Convolutional Neural Network (CNN) using PyTorch to classify handwritten digits in the MNIST dataset.**\n",
    "\n",
    "### **Step 1: Import Required Libraries**"
   ]
  },
  {
   "cell_type": "code",
   "execution_count": 1,
   "id": "31368e43-9110-4980-bc88-0dfe556787f4",
   "metadata": {},
   "outputs": [],
   "source": [
    "# import torch\n",
    "import numpy as np\n",
    "# import torchvision\n",
    "# import torch.nn as nn\n",
    "# import torch.optim as optim\n",
    "# import matplotlib.pyplot as plt\n",
    "# import torchvision.transforms as transforms"
   ]
  },
  {
   "cell_type": "markdown",
   "id": "a91ee26e-0c36-4817-990b-092d4deb0d5d",
   "metadata": {},
   "source": [
    "### **Step 2: Load and Preprocess the MNIST Dataset**"
   ]
  },
  {
   "cell_type": "code",
   "execution_count": 2,
   "id": "7d475045-211f-45c2-af45-baecda4bb5bf",
   "metadata": {},
   "outputs": [
    {
     "name": "stdout",
     "output_type": "stream",
     "text": [
      "Training dataset size: 60000\n",
      "Test dataset size: 10000\n"
     ]
    }
   ],
   "source": [
    "# Define transformation (convert images to tensors and normalize)\n",
    "transform = transforms.Compose([\n",
    "    transforms.ToTensor(),\n",
    "    transforms.Normalize((0.5,), (0.5,))  # Normalize images to [-1, 1]\n",
    "])\n",
    "\n",
    "# Load training and test datasets\n",
    "train_dataset = torchvision.datasets.MNIST(root='/bsuhome/tnde/scratch/ml_tutorials/data', train=True, transform=transform, download=True)\n",
    "test_dataset = torchvision.datasets.MNIST(root='/bsuhome/tnde/scratch/ml_tutorials/data', train=False, transform=transform, download=True)\n",
    "\n",
    "# Create data loaders for batching\n",
    "train_loader = torch.utils.data.DataLoader(train_dataset, batch_size=64, shuffle=True)\n",
    "test_loader = torch.utils.data.DataLoader(test_dataset, batch_size=64, shuffle=False)\n",
    "\n",
    "# Check dataset shape\n",
    "print(f\"Training dataset size: {len(train_dataset)}\")\n",
    "print(f\"Test dataset size: {len(test_dataset)}\")"
   ]
  },
  {
   "cell_type": "markdown",
   "id": "38dfb758-124a-4f9f-971b-57c05f3d76bf",
   "metadata": {},
   "source": [
    "### **Step 3: Define the CNN Architecture**\n",
    "Instead of a Dense Neural Network, we now use:\n",
    "\n",
    "- Convolutional layers to extract features.\n",
    "- MaxPooling layers to reduce dimensions.\n",
    "- Dropout layers to prevent overfitting."
   ]
  },
  {
   "cell_type": "code",
   "execution_count": 3,
   "id": "e1618f18-621d-4b91-b535-c537e286800d",
   "metadata": {},
   "outputs": [
    {
     "data": {
      "text/plain": [
       "CNN(\n",
       "  (conv1): Conv2d(1, 32, kernel_size=(3, 3), stride=(1, 1), padding=(1, 1))\n",
       "  (relu1): ReLU()\n",
       "  (pool1): MaxPool2d(kernel_size=2, stride=2, padding=0, dilation=1, ceil_mode=False)\n",
       "  (conv2): Conv2d(32, 64, kernel_size=(3, 3), stride=(1, 1), padding=(1, 1))\n",
       "  (relu2): ReLU()\n",
       "  (pool2): MaxPool2d(kernel_size=2, stride=2, padding=0, dilation=1, ceil_mode=False)\n",
       "  (flatten): Flatten(start_dim=1, end_dim=-1)\n",
       "  (fc1): Linear(in_features=3136, out_features=128, bias=True)\n",
       "  (relu3): ReLU()\n",
       "  (dropout): Dropout(p=0.5, inplace=False)\n",
       "  (fc2): Linear(in_features=128, out_features=10, bias=True)\n",
       ")"
      ]
     },
     "execution_count": 3,
     "metadata": {},
     "output_type": "execute_result"
    }
   ],
   "source": [
    "class CNN(nn.Module):\n",
    "    def __init__(self):\n",
    "        super(CNN, self).__init__()\n",
    "        self.conv1 = nn.Conv2d(in_channels=1, out_channels=32, kernel_size=3, stride=1, padding=1)\n",
    "        self.relu1 = nn.ReLU()\n",
    "        self.pool1 = nn.MaxPool2d(kernel_size=2, stride=2)\n",
    "\n",
    "        self.conv2 = nn.Conv2d(in_channels=32, out_channels=64, kernel_size=3, stride=1, padding=1)\n",
    "        self.relu2 = nn.ReLU()\n",
    "        self.pool2 = nn.MaxPool2d(kernel_size=2, stride=2)\n",
    "\n",
    "        self.flatten = nn.Flatten()\n",
    "        self.fc1 = nn.Linear(64 * 7 * 7, 128)  # 7x7 after pooling\n",
    "        self.relu3 = nn.ReLU()\n",
    "        self.dropout = nn.Dropout(0.5)\n",
    "\n",
    "        self.fc2 = nn.Linear(128, 10)  # Output layer for 10 classes\n",
    "\n",
    "    def forward(self, x):\n",
    "        x = self.pool1(self.relu1(self.conv1(x)))\n",
    "        x = self.pool2(self.relu2(self.conv2(x)))\n",
    "        x = self.flatten(x)\n",
    "        x = self.relu3(self.fc1(x))\n",
    "        x = self.dropout(x)\n",
    "        x = self.fc2(x)\n",
    "        return x\n",
    "\n",
    "# Instantiate the model\n",
    "model = CNN()\n",
    "\n",
    "# Define loss function and optimizer\n",
    "criterion = nn.CrossEntropyLoss()\n",
    "optimizer = optim.Adam(model.parameters(), lr=0.001)\n",
    "\n",
    "# Move model to GPU if available\n",
    "device = torch.device(\"cuda\" if torch.cuda.is_available() else \"cpu\")\n",
    "model.to(device)"
   ]
  },
  {
   "cell_type": "markdown",
   "id": "08e84720-d679-4c01-b7ce-139b96d0a310",
   "metadata": {},
   "source": [
    "### **Step 4: Train the CNN Model**"
   ]
  },
  {
   "cell_type": "code",
   "execution_count": 4,
   "id": "744a42a2-7d58-4cba-b39c-433a8f6becaf",
   "metadata": {},
   "outputs": [
    {
     "name": "stdout",
     "output_type": "stream",
     "text": [
      "Epoch [1/10], Train Loss: 0.2486, Train Acc: 0.9239, Val Loss: 0.0526, Val Acc: 0.9839\n",
      "Epoch [2/10], Train Loss: 0.0908, Train Acc: 0.9732, Val Loss: 0.0347, Val Acc: 0.9889\n",
      "Epoch [3/10], Train Loss: 0.0669, Train Acc: 0.9801, Val Loss: 0.0296, Val Acc: 0.9905\n",
      "Epoch [4/10], Train Loss: 0.0553, Train Acc: 0.9831, Val Loss: 0.0295, Val Acc: 0.9903\n",
      "Epoch [5/10], Train Loss: 0.0472, Train Acc: 0.9855, Val Loss: 0.0251, Val Acc: 0.9927\n",
      "Epoch [6/10], Train Loss: 0.0415, Train Acc: 0.9875, Val Loss: 0.0255, Val Acc: 0.9924\n",
      "Epoch [7/10], Train Loss: 0.0354, Train Acc: 0.9890, Val Loss: 0.0221, Val Acc: 0.9933\n",
      "Epoch [8/10], Train Loss: 0.0307, Train Acc: 0.9903, Val Loss: 0.0250, Val Acc: 0.9927\n",
      "Epoch [9/10], Train Loss: 0.0297, Train Acc: 0.9905, Val Loss: 0.0237, Val Acc: 0.9932\n",
      "Epoch [10/10], Train Loss: 0.0264, Train Acc: 0.9918, Val Loss: 0.0286, Val Acc: 0.9925\n",
      "Training complete!\n"
     ]
    }
   ],
   "source": [
    "num_epochs = 10\n",
    "train_losses = []\n",
    "val_losses = []\n",
    "train_accuracies = []\n",
    "val_accuracies = []\n",
    "\n",
    "for epoch in range(num_epochs):\n",
    "    model.train()\n",
    "    running_loss = 0.0\n",
    "    correct, total = 0, 0\n",
    "\n",
    "    for images, labels in train_loader:\n",
    "        images, labels = images.to(device), labels.to(device)\n",
    "\n",
    "        optimizer.zero_grad()\n",
    "        outputs = model(images)\n",
    "        loss = criterion(outputs, labels)\n",
    "        loss.backward()\n",
    "        optimizer.step()\n",
    "\n",
    "        running_loss += loss.item()\n",
    "        _, predicted = torch.max(outputs, 1)\n",
    "        total += labels.size(0)\n",
    "        correct += (predicted == labels).sum().item()\n",
    "\n",
    "    train_loss = running_loss / len(train_loader)\n",
    "    train_accuracy = correct / total\n",
    "    train_losses.append(train_loss)\n",
    "    train_accuracies.append(train_accuracy)\n",
    "\n",
    "    # Validate the model\n",
    "    model.eval()\n",
    "    val_loss = 0.0\n",
    "    correct, total = 0, 0\n",
    "\n",
    "    with torch.no_grad():\n",
    "        for images, labels in test_loader:\n",
    "            images, labels = images.to(device), labels.to(device)\n",
    "            outputs = model(images)\n",
    "            loss = criterion(outputs, labels)\n",
    "            val_loss += loss.item()\n",
    "            _, predicted = torch.max(outputs, 1)\n",
    "            total += labels.size(0)\n",
    "            correct += (predicted == labels).sum().item()\n",
    "\n",
    "    val_loss /= len(test_loader)\n",
    "    val_accuracy = correct / total\n",
    "    val_losses.append(val_loss)\n",
    "    val_accuracies.append(val_accuracy)\n",
    "\n",
    "    print(f\"Epoch [{epoch+1}/{num_epochs}], Train Loss: {train_loss:.4f}, Train Acc: {train_accuracy:.4f}, Val Loss: {val_loss:.4f}, Val Acc: {val_accuracy:.4f}\")\n",
    "\n",
    "print(\"Training complete!\")"
   ]
  },
  {
   "cell_type": "markdown",
   "id": "a64463dd-2303-46f8-b531-3870f3627800",
   "metadata": {},
   "source": [
    "### **Step 5: Evaluate the Model**"
   ]
  },
  {
   "cell_type": "code",
   "execution_count": 5,
   "id": "f7c4ec51-29ab-42d3-8f6c-5e039806745d",
   "metadata": {},
   "outputs": [
    {
     "name": "stdout",
     "output_type": "stream",
     "text": [
      "Test Accuracy: 0.9925\n"
     ]
    }
   ],
   "source": [
    "model.eval()\n",
    "correct, total = 0, 0\n",
    "\n",
    "with torch.no_grad():\n",
    "    for images, labels in test_loader:\n",
    "        images, labels = images.to(device), labels.to(device)\n",
    "        outputs = model(images)\n",
    "        _, predicted = torch.max(outputs, 1)\n",
    "        total += labels.size(0)\n",
    "        correct += (predicted == labels).sum().item()\n",
    "\n",
    "accuracy = correct / total\n",
    "print(f\"Test Accuracy: {accuracy:.4f}\")"
   ]
  },
  {
   "cell_type": "markdown",
   "id": "79eacc3c-9840-4b67-b396-ae6ffc54b988",
   "metadata": {},
   "source": [
    "### **Step 6: Visualize Training Progress**\n",
    "Plot the accuracy and loss curves for both training and validation."
   ]
  },
  {
   "cell_type": "code",
   "execution_count": 6,
   "id": "87ee73f7-2b94-4bff-9706-5d543c0815d8",
   "metadata": {},
   "outputs": [
    {
     "data": {
      "image/png": "[encoded data removed]",
      "text/plain": [
       "<Figure size 640x480 with 1 Axes>"
      ]
     },
     "metadata": {},
     "output_type": "display_data"
    },
    {
     "data": {
      "image/png": "[encoded data removed]",
      "text/plain": [
       "<Figure size 640x480 with 1 Axes>"
      ]
     },
     "metadata": {},
     "output_type": "display_data"
    }
   ],
   "source": [
    "# Plot Accuracy\n",
    "plt.plot(train_accuracies, label='Train Accuracy')\n",
    "plt.plot(val_accuracies, label='Validation Accuracy')\n",
    "plt.xlabel('Epochs')\n",
    "plt.ylabel('Accuracy')\n",
    "plt.legend()\n",
    "plt.show()\n",
    "\n",
    "# Plot Loss\n",
    "plt.plot(train_losses, label='Train Loss')\n",
    "plt.plot(val_losses, label='Validation Loss')\n",
    "plt.xlabel('Epochs')\n",
    "plt.ylabel('Loss')\n",
    "plt.legend()\n",
    "plt.show()"
   ]
  },
  {
   "cell_type": "markdown",
   "id": "68629592-505c-426a-adba-8ef5db629cb6",
   "metadata": {},
   "source": [
    "### **Step 7: Make Predictions**"
   ]
  },
  {
   "cell_type": "code",
   "execution_count": 7,
   "id": "03831a52-a724-4646-b80d-e40948ead455",
   "metadata": {},
   "outputs": [
    {
     "data": {
      "image/png": "[encoded data removed]",
      "text/plain": [
       "<Figure size 640x480 with 1 Axes>"
      ]
     },
     "metadata": {},
     "output_type": "display_data"
    }
   ],
   "source": [
    "# Get a batch of test images\n",
    "images, labels = next(iter(test_loader))\n",
    "images, labels = images.to(device), labels.to(device)\n",
    "\n",
    "# Make predictions\n",
    "model.eval()\n",
    "with torch.no_grad():\n",
    "    outputs = model(images)\n",
    "    _, predicted = torch.max(outputs, 1)\n",
    "\n",
    "# Display an example image and prediction\n",
    "plt.imshow(images[0].cpu().squeeze(), cmap='gray')\n",
    "plt.title(f\"Predicted: {predicted[0].item()}, Actual: {labels[0].item()}\")\n",
    "plt.show()"
   ]
  },
  {
   "cell_type": "markdown",
   "id": "30518560-e8f2-403e-8987-ad578c5aa724",
   "metadata": {},
   "source": [
    "### **Next Steps for More Complexity**\n",
    "- Increase CNN Depth - Add more convolutional layers.\n",
    "- Use Data Augmentation - Improve generalization with `torchvision.transforms.RandomRotation` and `RandomHorizontalFlip`.\n",
    "- Apply Transfer Learning - Use a pre-trained model like ResNet or VGG16.\n",
    "- Train on Custom Datasets - Try it with a dataset like CIFAR-10 or Fashion-MNIST."
   ]
  },
  {
   "cell_type": "code",
   "execution_count": null,
   "id": "3e334386-d730-449e-9fc3-dace4f9150f7",
   "metadata": {},
   "outputs": [],
   "source": []
  },
  {
   "cell_type": "markdown",
   "id": "ad4b514a-e3c0-457f-90c6-7c3bf5bf5ae9",
   "metadata": {
    "tags": []
   },
   "source": [
    "## **Advanced TensorFlow Tutorial: CNN for Fashion Image Classification**\n",
    "\n",
    "Note that the MNIST handwritten digits problem is a relatively simple and widely studied problem. Even with a simle model we can get a better model performance. Now, let’s make this tutorial more complex by incorporating TensorBoard for visualization and data augmentation for better generalization. We will build a Convolutional Neural Network (CNN) to classify images from the Fashion-MNIST dataset, which is more challenging than MNIST.\n",
    "\n",
    "**Objective: Train a deep CNN on the Fashion-MNIST dataset, use TensorBoard for visualization, and apply data augmentation to improve generalization.**\n",
    "\n",
    "### **The Fashion-MNIST Problem: Clothing Item Classification**  \n",
    "\n",
    "#### **Overview**  \n",
    "**Fashion-MNIST** is a machine learning dataset designed as a more challenging replacement for the original **MNIST handwritten digit dataset**. The goal is to classify images of **clothing items** into one of **10 categories** using machine learning or deep learning models.\n",
    "\n",
    "#### **Why Fashion-MNIST?**  \n",
    "- **More challenging** than MNIST because clothing items have more complex patterns.  \n",
    "- **Same format as MNIST**, making it easy to experiment with advanced models like CNNs.  \n",
    "- **Real-world relevance** in applications like **retail, e-commerce, and fashion industry AI**.\n",
    "\n",
    "---\n",
    "\n",
    "### **Problem Definition**\n",
    "The task is to build a **supervised classification model** that can recognize different types of clothing items from grayscale images.\n",
    "\n",
    "1. **Input:** A **28×28 grayscale image** of a clothing item.  \n",
    "2. **Output:** A **single label (0-9)** corresponding to the clothing category.  \n",
    "3. **Model Type:** **Supervised classification problem**.\n",
    "\n",
    "---\n",
    "\n",
    "### **Dataset Breakdown**\n",
    "- **Training Set:** 60,000 images.  \n",
    "- **Test Set:** 10,000 images.  \n",
    "- **Classes (10 Categories):**  \n",
    "  | Label | Class Name | Example |\n",
    "  |--------|------------|---------|\n",
    "  | 0 | T-shirt/top | 👕 |\n",
    "  | 1 | Trouser | 👖 |\n",
    "  | 2 | Pullover | 🧥 |\n",
    "  | 3 | Dress | 👗 |\n",
    "  | 4 | Coat | 🧥 |\n",
    "  | 5 | Sandal | 🩴 |\n",
    "  | 6 | Shirt | 👚 |\n",
    "  | 7 | Sneaker | 👟 |\n",
    "  | 8 | Bag | 👜 |\n",
    "  | 9 | Ankle boot | 👢 |\n",
    "\n",
    "---\n",
    "\n",
    "### **Challenges of the Fashion-MNIST Problem**\n",
    "1. **More Visual Complexity** – Unlike MNIST, fashion images have textures and patterns.  \n",
    "2. **Class Similarity** – Some items (e.g., shirts and coats) look similar, making classification harder.  \n",
    "3. **Generalization** – The model must recognize items despite variations in style and texture.\n",
    "\n",
    "---\n",
    "\n",
    "### **Approaches to Solve Fashion-MNIST**\n",
    "| Approach | Method |\n",
    "|----------|--------|\n",
    "| **Basic Approach** | Logistic Regression, k-Nearest Neighbors (KNN) |\n",
    "| **Deep Learning Approach** | Fully Connected Neural Networks (FCNN) |\n",
    "| **Advanced Approach** | Convolutional Neural Networks (CNNs) |\n",
    "| **State-of-the-Art** | Transfer Learning (using ResNet, EfficientNet, etc.) |\n",
    "\n",
    "---\n",
    "\n",
    "### **Applications of Fashion-MNIST Classification**\n",
    "- **E-commerce AI** – Automatically tag and sort clothing items.  \n",
    "- **Retail Analytics** – Identify fashion trends using image recognition.  \n",
    "- **Virtual Try-On Systems** – Power fashion recommendation systems.  \n",
    "\n",
    "\n",
    "### **Here we put all the code together.**"
   ]
  },
  {
   "cell_type": "code",
   "execution_count": null,
   "id": "8ce65a01-6534-49ba-8342-3597eb7b85ba",
   "metadata": {},
   "outputs": [],
   "source": [
    "import torch\n",
    "import datetime\n",
    "import numpy as np\n",
    "import torchvision\n",
    "import torch.nn as nn\n",
    "import torch.optim as optim\n",
    "import matplotlib.pyplot as plt\n",
    "import torchvision.transforms as transforms\n",
    "from torch.utils.tensorboard import SummaryWriter\n",
    "\n",
    "# import torch\n",
    "# import torchvision\n",
    "# import torch.nn as nn\n",
    "# import torch.optim as optim\n",
    "# import matplotlib.pyplot as plt\n",
    "# import torchvision.transforms as transforms\n",
    "\n",
    "# Set device\n",
    "device = torch.device(\"cuda\" if torch.cuda.is_available() else \"cpu\")\n",
    "\n",
    "# Data augmentation and normalization\n",
    "transform = transforms.Compose([\n",
    "    transforms.RandomHorizontalFlip(),\n",
    "    transforms.RandomRotation(10),\n",
    "    transforms.RandomResizedCrop(28, scale=(0.9, 1.0)),\n",
    "    transforms.ToTensor(),\n",
    "    transforms.Normalize((0.5,), (0.5,))\n",
    "])\n",
    "\n",
    "# Load dataset\n",
    "train_dataset = torchvision.datasets.FashionMNIST(root='/bsuhome/tnde/scratch/ml_tutorials/data', train=True, transform=transform, download=True)\n",
    "test_dataset = torchvision.datasets.FashionMNIST(root='/bsuhome/tnde/scratch/ml_tutorials/data', train=False, transform=transforms.ToTensor(), download=True)\n",
    "\n",
    "train_loader = torch.utils.data.DataLoader(train_dataset, batch_size=64, shuffle=True)\n",
    "test_loader = torch.utils.data.DataLoader(test_dataset, batch_size=64, shuffle=False)\n",
    "\n",
    "# Define CNN model\n",
    "class CNN(nn.Module):\n",
    "    def __init__(self):\n",
    "        super(CNN, self).__init__()\n",
    "        self.conv1 = nn.Conv2d(1, 32, kernel_size=3, padding=1)\n",
    "        self.bn1 = nn.BatchNorm2d(32)\n",
    "        self.pool = nn.MaxPool2d(2, 2)\n",
    "        \n",
    "        self.conv2 = nn.Conv2d(32, 64, kernel_size=3, padding=1)\n",
    "        self.bn2 = nn.BatchNorm2d(64)\n",
    "        \n",
    "        self.fc1 = nn.Linear(64 * 7 * 7, 128)\n",
    "        self.dropout = nn.Dropout(0.5)\n",
    "        self.fc2 = nn.Linear(128, 10)\n",
    "\n",
    "    def forward(self, x):\n",
    "        x = self.pool(torch.relu(self.bn1(self.conv1(x))))\n",
    "        x = self.pool(torch.relu(self.bn2(self.conv2(x))))\n",
    "        x = x.view(-1, 64 * 7 * 7)\n",
    "        x = torch.relu(self.fc1(x))\n",
    "        x = self.dropout(x)\n",
    "        x = self.fc2(x)\n",
    "        return x\n",
    "\n",
    "# Initialize model, loss, and optimizer\n",
    "model = CNN().to(device)\n",
    "criterion = nn.CrossEntropyLoss()\n",
    "optimizer = optim.Adam(model.parameters(), lr=0.001)\n",
    "\n",
    "# Set up TensorBoard\n",
    "log_dir = \"logs/\" + datetime.datetime.now().strftime(\"%Y%m%d-%H%M%S\")\n",
    "writer = SummaryWriter(log_dir=log_dir)\n",
    "\n",
    "# Training loop\n",
    "num_epochs = 10\n",
    "for epoch in range(num_epochs):\n",
    "    model.train()\n",
    "    running_loss = 0.0\n",
    "    correct, total = 0, 0\n",
    "    \n",
    "    for images, labels in train_loader:\n",
    "        images, labels = images.to(device), labels.to(device)\n",
    "        \n",
    "        optimizer.zero_grad()\n",
    "        outputs = model(images)\n",
    "        loss = criterion(outputs, labels)\n",
    "        loss.backward()\n",
    "        optimizer.step()\n",
    "        \n",
    "        running_loss += loss.item()\n",
    "        _, predicted = torch.max(outputs, 1)\n",
    "        total += labels.size(0)\n",
    "        correct += (predicted == labels).sum().item()\n",
    "    \n",
    "    train_accuracy = correct / total\n",
    "    train_loss = running_loss / len(train_loader)\n",
    "    \n",
    "    # Log metrics\n",
    "    writer.add_scalar('Loss/train', train_loss, epoch)\n",
    "    writer.add_scalar('Accuracy/train', train_accuracy, epoch)\n",
    "    \n",
    "    print(f\"Epoch [{epoch+1}/{num_epochs}], Loss: {train_loss:.4f}, Accuracy: {train_accuracy:.4f}\")\n",
    "\n",
    "# Evaluate model\n",
    "model.eval()\n",
    "correct, total = 0, 0\n",
    "with torch.no_grad():\n",
    "    for images, labels in test_loader:\n",
    "        images, labels = images.to(device), labels.to(device)\n",
    "        outputs = model(images)\n",
    "        _, predicted = torch.max(outputs, 1)\n",
    "        total += labels.size(0)\n",
    "        correct += (predicted == labels).sum().item()\n",
    "\n",
    "test_accuracy = correct / total\n",
    "print(f\"Test Accuracy: {test_accuracy:.4f}\")\n",
    "writer.add_scalar('Accuracy/test', test_accuracy)\n",
    "writer.close()\n",
    "\n",
    "# Plot training curves\n",
    "plt.plot(writer.scalar_dict['Loss/train'].values(), label='Train Loss')\n",
    "plt.xlabel('Epochs')\n",
    "plt.ylabel('Loss')\n",
    "plt.legend()\n",
    "plt.show()\n",
    "\n",
    "plt.plot(writer.scalar_dict['Accuracy/train'].values(), label='Train Accuracy')\n",
    "plt.xlabel('Epochs')\n",
    "plt.ylabel('Accuracy')\n",
    "plt.legend()\n",
    "plt.show()\n",
    "\n",
    "print(\"code complete\")\n",
    "# Launch TensorBoard with: tensorboard --logdir=logs/"
   ]
  },
  {
   "cell_type": "markdown",
   "id": "e33821ec-7b5a-4b04-a5f6-6a9b9fe3b3f7",
   "metadata": {},
   "source": [
    "### **TensorBoard**\n",
    "\n",
    "TensorBoard allows you to monitor model training in real time.\n",
    "\n",
    "### **What is TensorBoard?**  \n",
    "TensorBoard is a **visualization tool** that comes with TensorFlow. It helps **monitor, debug, and optimize** machine learning models by providing interactive visualizations for:  \n",
    "\n",
    "- **Training progress** (loss and accuracy curves)  \n",
    "- **Model architecture** (graph visualization)  \n",
    "- **Weight distributions** (to analyze parameter updates)  \n",
    "- **Performance metrics** (scalars, histograms, images, etc.)  \n",
    "- **Hyperparameter tuning** (using HParams)  \n",
    "\n",
    "---\n",
    "### **Why Use TensorBoard?**\n",
    "1. **Track Model Training Progress**  \n",
    "   - View loss and accuracy curves in real-time to detect overfitting or underfitting.  \n",
    "\n",
    "2. **Visualize the Computation Graph**  \n",
    "   - Understand the model structure and debug layer connections.  \n",
    "\n",
    "3. **Analyze Weights and Biases**  \n",
    "   - Track how model parameters evolve during training.  \n",
    "\n",
    "4. **Compare Multiple Runs**  \n",
    "   - Evaluate different hyperparameters and optimizers side by side.  \n",
    "\n",
    "5. **Monitor Data Inputs and Outputs**  \n",
    "   - Check how input data is transformed at different layers.  \n",
    "\n",
    "---\n",
    "\n",
    "### **TensorBoard Features**\n",
    "| Feature | What It Does |\n",
    "|---------|-------------|\n",
    "| **Scalars** | Tracks metrics like loss & accuracy over time. |\n",
    "| **Graphs** | Displays the model’s computational graph. |\n",
    "| **Histograms** | Shows weight and bias distributions. |\n",
    "| **Images** | Visualizes input images during training. |\n",
    "| **HParams** | Helps tune hyperparameters like learning rate. |\n",
    "\n",
    "---\n",
    "\n",
    "### **Example TensorBoard Workflow**\n",
    "If you are training a CNN on Fashion-MNIST, TensorBoard can help:  \n",
    "- Monitor accuracy and loss curves.  \n",
    "- Check if weights are updating properly.  \n",
    "- Compare multiple optimizers (SGD, Adam, etc.).  \n",
    "\n",
    "\n",
    "##### **Note: On Borah, you may not be able to use tensorboard if you do not have GPU access. One possible solution is to install `tensorflow-cpu` instead. It is the CPU-only version of TensorFlor. If you do have GPU access, make sure CUDA is available or properly loaded.**\n",
    "\n",
    "\n",
    "### **Visualizing with TensorBoard: Run TensorBoard in Jupyter Notebook**\n",
    "\n",
    "If you prefer running it inside Jupyter Notebook, you can use:\n",
    "\n",
    "```ruby\n",
    "%load_ext tensorboard\n",
    "%tensorboard --logdir=runs\n",
    "```\n",
    "\n",
    "But this is not always reliable on remote clusters. Note that if your Jupyter Notebook is not in the folder containing `runs/`, you need to specify the correct path. For example, if `runs/` is inside `/home/user/project/`, but your notebook is in `/home/user/notebooks/`, then modify the command as follows:\n",
    "\n",
    "```ruby\n",
    "%load_ext tensorboard\n",
    "%tensorboard --logdir=/home/user/project/runs\n",
    "```\n",
    "\n",
    "You can also move your notebook to the project/ folder to avoid path issues.\n",
    "\n",
    "\n",
    "### **Visualizing with TensorBoard: Run TensorBoard in Terminal**\n",
    "Start TensorBoard by running the following command in your terminal:\n",
    "\n",
    "```ruby\n",
    "tensorboard --logdir=runs\n",
    "```\n",
    "\n",
    "Then open your browser at http://localhost:6006/.\n",
    "\n",
    "\n",
    "### Key Features of this Tutorial:\n",
    "- Uses PyTorch's DataLoader for handling large datasets efficiently\n",
    "- Implements a Convolutional Neural Network (CNN) for image classification\n",
    "- Utilizes Dropout (0.5) to prevent overfitting\n",
    "- Includes TensorBoard for logging training loss and accuracy\n",
    "- Runs on GPU if available"
   ]
  },
  {
   "cell_type": "markdown",
   "id": "c2f8fa3e-b903-4d8b-9365-734da64bd573",
   "metadata": {},
   "source": [
    "## The End."
   ]
  }
 ],
 "metadata": {
  "kernelspec": {
   "display_name": "ml_tutorial",
   "language": "python",
   "name": "ml_tutorial"
  },
  "language_info": {
   "codemirror_mode": {
    "name": "ipython",
    "version": 3
   },
   "file_extension": ".py",
   "mimetype": "text/x-python",
   "name": "python",
   "nbconvert_exporter": "python",
   "pygments_lexer": "ipython3",
   "version": "3.9.15"
  }
 },
 "nbformat": 4,
 "nbformat_minor": 5
}
