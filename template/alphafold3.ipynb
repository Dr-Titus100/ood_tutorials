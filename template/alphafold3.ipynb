{
 "cells": [
  {
   "cell_type": "markdown",
   "id": "13f9e6a8-faad-46b6-abc9-e6dae7843078",
   "metadata": {},
   "source": [
    "# Alphafold 3 Tutorial\n",
    "\n",
    "![img](https://media.nature.com/lw767/magazine-assets/d41586-024-03708-4/d41586-024-03708-4_27714520.jpg?as=webp)\n",
    "\n",
    "Image courtesy of [Nature News](https://www.nature.com/articles/d41586-024-03708-4)"
   ]
  },
  {
   "cell_type": "code",
   "execution_count": null,
   "id": "cb88cc0f-eee8-4c0e-bc7f-6b66d57f0c82",
   "metadata": {},
   "outputs": [],
   "source": [
    "import alphafold3"
   ]
  }
 ],
 "metadata": {
  "kernelspec": {
   "display_name": "Python 3 (ipykernel)",
   "language": "python",
   "name": "python3"
  },
  "language_info": {
   "codemirror_mode": {
    "name": "ipython",
    "version": 3
   },
   "file_extension": ".py",
   "mimetype": "text/x-python",
   "name": "python",
   "nbconvert_exporter": "python",
   "pygments_lexer": "ipython3",
   "version": "3.11.10"
  }
 },
 "nbformat": 4,
 "nbformat_minor": 5
}
